{
 "cells": [
  {
   "cell_type": "code",
   "execution_count": 81,
   "metadata": {},
   "outputs": [
    {
     "name": "stdout",
     "output_type": "stream",
     "text": [
      "<re.Match object; span=(10, 12), match='in'>\n",
      "found\n"
     ]
    }
   ],
   "source": [
    "import re\n",
    "def occurances(word):\n",
    "    c=0\n",
    "    with open('Datafiles/data.txt','r') as f:\n",
    "        filedata=f.read()\n",
    "        pattern=word+''\n",
    "        print(re.search(pattern,filedata))\n",
    "        if(re.search(pattern,filedata)):\n",
    "            print(\"found\")\n",
    "        else:\n",
    "            print(\"not found\")\n",
    "        \n",
    "occurances(\"in\")"
   ]
  },
  {
   "cell_type": "code",
   "execution_count": 70,
   "metadata": {},
   "outputs": [
    {
     "name": "stdout",
     "output_type": "stream",
     "text": [
      "Contact already exists\n"
     ]
    }
   ],
   "source": [
    "from Packages.validators import phonenumvalidator as pnv, emailvalidator as ev\n",
    "import re\n",
    "def addcont(name,phone,email):\n",
    "    filepath='Datafiles/book.txt'\n",
    "    if not checknameexists(name):\n",
    "        if pnv(phone)and ev(email):\n",
    "            with open('Datafiles/book.txt','a')as f:\n",
    "                line= name+','+str(phone)+','+email+'\\n'\n",
    "                f.write(line)\n",
    "            print(name,\"added to contacts\")\n",
    "        else:\n",
    "            print(\"invalid phone num or email\")\n",
    "    else:\n",
    "        print(\"Contact already exists\")\n",
    "        \n",
    "def checknameexists(name):\n",
    "    with open('Datafiles/book.txt','r')as f:\n",
    "        filedata=f.read()\n",
    "        pattern=name+','\n",
    "    return re.search(pattern,filedata)\n",
    "addcont(\"name1\",9149289023,'name1_2@gmail.com')\n",
    "\n",
    "        "
   ]
  },
  {
   "cell_type": "code",
   "execution_count": 23,
   "metadata": {},
   "outputs": [
    {
     "name": "stdout",
     "output_type": "stream",
     "text": [
      "contact not exist\n"
     ]
    }
   ],
   "source": [
    "def search(name):\n",
    "    li=[]\n",
    "    c=0\n",
    "    with open('Datafiles/book.txt','r')as f:\n",
    "        for line in f:\n",
    "            li.append(line.split(','))\n",
    "        for i in range(0,len(li)):\n",
    "            if(li[i][0]==name):\n",
    "                c=1\n",
    "                print(\"phone\",li[i][1],\"email\",li[i][2])\n",
    "        if c==1:\n",
    "            print(\"contact exist\")\n",
    "        else:\n",
    "            print(\"contact not exist\")\n",
    "search(\"name3\")\n",
    "            "
   ]
  },
  {
   "cell_type": "code",
   "execution_count": 28,
   "metadata": {},
   "outputs": [],
   "source": [
    "def delete(name):\n",
    "    li=[]\n",
    "    with open('Datafiles/book.txt','r')as f:\n",
    "        for line in f:\n",
    "            li.append(line.split(','))\n",
    "        for i in range(0,len(li)):\n",
    "            if(li[i][0]==name):\n",
    "                li.pop(i)\n",
    "                break\n",
    "        with open('Datafiles/book.txt','w')as f:\n",
    "            for line in li:\n",
    "                rline=','.join(line)\n",
    "                f.writelines(rline)\n",
    "delete(\"name1\")"
   ]
  },
  {
   "cell_type": "code",
   "execution_count": 38,
   "metadata": {},
   "outputs": [
    {
     "name": "stdout",
     "output_type": "stream",
     "text": [
      "name2,9249289023,name2_2@gmail.com\n",
      "\n",
      "name1,9149289023,name1_2@gmail.com\n",
      "\n"
     ]
    }
   ],
   "source": [
    "def listing():\n",
    "    li=[]\n",
    "    with open('Datafiles/book.txt','r')as f:\n",
    "        for line in f:\n",
    "            li.append(line)\n",
    "        for i in li:\n",
    "            print(i)\n",
    "listing()"
   ]
  },
  {
   "cell_type": "code",
   "execution_count": 13,
   "metadata": {},
   "outputs": [],
   "source": [
    "from Packages.validators import phonenumvalidator as pnv, emailvalidator as ev\n",
    "def modifyContacts(name,phone,email):\n",
    "    filename='Datafiles/book.txt'\n",
    "    c=0\n",
    "    li=[]\n",
    "    with open(filename,'r') as f:\n",
    "        for line in f:\n",
    "            li.append(line.split(','))\n",
    "    for i in range(0,len(li)):\n",
    "        if li[i][0]==name:\n",
    "            li[i][1]=phone\n",
    "            li[i][2]=email\n",
    "                #print(li)\n",
    "            if pnv(phone) and ev(email):\n",
    "                with open('Datafiles/book.txt', 'w') as f1:\n",
    "                    for line in li:\n",
    "                        rline=','.join(line)\n",
    "                        f1.writelines('\\n'+rline)\n",
    "                        c=1\n",
    "            else:\n",
    "                print(\"Invalid Phone number or Email \")\n",
    "        \n",
    "modifyContacts(\"name1\",'9876943910','asdghj@asdf.bm')\n",
    "\n",
    "                            "
   ]
  },
  {
   "cell_type": "code",
   "execution_count": 20,
   "metadata": {},
   "outputs": [
    {
     "name": "stdout",
     "output_type": "stream",
     "text": [
      "2\n",
      "abc\n",
      "cba\n",
      "0\n",
      "ab\n",
      "b\n",
      "1\n"
     ]
    }
   ],
   "source": [
    "#Function to check if two strings are anagrams\n",
    "#True or False output - \n",
    "#abc cba  True \n",
    "def checkAnagrams(s1,s2):\n",
    "    if len(s1)!=len(s2):\n",
    "        return False\n",
    "    if sorted(s1)==sorted(s2):\n",
    "        return True\n",
    "    else:\n",
    "        return False\n",
    "def chardeletionsanagrams(s1,s2):\n",
    "    uncommon=[]\n",
    "    for i in s1:\n",
    "        if i not in s2:\n",
    "            uncommon.append(i)\n",
    "    for i in s2:\n",
    "        if i not in s1:\n",
    "            uncommon.append(i)\n",
    "    count=len(uncommon)\n",
    "    freqs1={}\n",
    "    freqs2={}\n",
    "    uniqs1=[]\n",
    "    uniqs2=[]\n",
    "    for i in s1:\n",
    "        if i not in uncommon and i not in uniqs1:\n",
    "            freqs1[i]=s1.count(i)\n",
    "            uniqs1.append(i)\n",
    "    for i in s2:\n",
    "        if i not in uncommon and i not in uniqs2:\n",
    "            freqs2[i]=s2.count(i)\n",
    "            uniqs2.append(i)\n",
    "    for key in freqs1.keys():\n",
    "        count+=abs(freqs1[key]-freqs2[key])\n",
    "    print(count)\n",
    "def chardeleanagrams1():\n",
    "    t=int(input())\n",
    "    for i in range(1,t+1):\n",
    "        s1=input()\n",
    "        s2=input()\n",
    "        chardeletionsanagrams(s1,s2)\n",
    "chardeleanagrams1()"
   ]
  },
  {
   "cell_type": "code",
   "execution_count": 37,
   "metadata": {},
   "outputs": [
    {
     "data": {
      "text/plain": [
       "'b'"
      ]
     },
     "execution_count": 37,
     "metadata": {},
     "output_type": "execute_result"
    }
   ],
   "source": [
    "def kthlargest(s,k):\n",
    "    freq={}\n",
    "    for i in s:\n",
    "        if i not in freq.keys():\n",
    "            freq[i]=s.count(i)\n",
    "    values=sorted(freq.values(),reverse=True)\n",
    "    unique=list(set(values))\n",
    "    unique=sorted(unique,reverse=True)\n",
    "    if k<=len(unique):\n",
    "        kvalue=unique[k-1]\n",
    "    else:\n",
    "        return -1\n",
    "    li=[]\n",
    "    for items in freq.items():\n",
    "        if items[1]==kvalue:\n",
    "            li.append(items[0])\n",
    "    return min(li)\n",
    "kthlargest(\"aabcdcc\",3)\n",
    "            \n",
    "    \n",
    "            "
   ]
  },
  {
   "cell_type": "code",
   "execution_count": null,
   "metadata": {},
   "outputs": [],
   "source": [
    "#second largest frequency element\n",
    "def secondlarfre(li):\n",
    "    unique={}\n",
    "    for i in li:\n",
    "        if i not in unique:\n",
    "            unique[i]=1\n",
    "        else:\n",
    "            unique[i]+=1\n",
    "    sor=sorted(unique.values())\n",
    "    if(len(sor)>=1):\n",
    "        seclarfr=(sor[1])\n",
    "    else:\n",
    "        return -1\n",
    "    maxfr=[]\n",
    "    for item in unique.items():\n",
    "        if item[1]==seclarfr:\n",
    "            maxfr.append(item[0])\n",
    "    print(min(maxfr))\n",
    "def secondlarfre2():\n",
    "    n=input()\n",
    "    a=n.split(' ')\n",
    "    secondlarfre(li)\n",
    "secondlarfre2()"
   ]
  },
  {
   "cell_type": "code",
   "execution_count": null,
   "metadata": {},
   "outputs": [],
   "source": []
  },
  {
   "cell_type": "code",
   "execution_count": null,
   "metadata": {},
   "outputs": [],
   "source": []
  },
  {
   "cell_type": "code",
   "execution_count": null,
   "metadata": {},
   "outputs": [],
   "source": []
  },
  {
   "cell_type": "code",
   "execution_count": null,
   "metadata": {},
   "outputs": [],
   "source": []
  }
 ],
 "metadata": {
  "kernelspec": {
   "display_name": "Python 3",
   "language": "python",
   "name": "python3"
  },
  "language_info": {
   "codemirror_mode": {
    "name": "ipython",
    "version": 3
   },
   "file_extension": ".py",
   "mimetype": "text/x-python",
   "name": "python",
   "nbconvert_exporter": "python",
   "pygments_lexer": "ipython3",
   "version": "3.7.3"
  }
 },
 "nbformat": 4,
 "nbformat_minor": 2
}
