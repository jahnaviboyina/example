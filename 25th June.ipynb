{
 "cells": [
  {
   "cell_type": "code",
   "execution_count": 6,
   "metadata": {},
   "outputs": [
    {
     "name": "stdout",
     "output_type": "stream",
     "text": [
      "Sun\n",
      "rises\n",
      "in\n",
      "the\n",
      "east\n",
      "Sun\n",
      "sets\n",
      "in\n",
      "the\n",
      "west\n",
      "Moon\n",
      "is\n",
      "so\n",
      "pleasant\n",
      "to\n",
      "see\n",
      "Neccessity\n",
      "is\n",
      "the\n",
      "mother\n",
      "of\n",
      "Invention\n",
      "You\n",
      "can\n",
      "do\n",
      "anything\n",
      "and\n",
      "everything\n",
      "All\n",
      "is\n",
      "well\n",
      "Janu\n",
      "is\n",
      "a\n",
      "brave\n",
      "girl\n",
      "She\n",
      "is\n",
      "self-confident\n"
     ]
    }
   ],
   "source": [
    "def occurances():\n",
    "    with open('Datafiles/data.txt','r') as f:\n",
    "        for lines in f.readlines():\n",
    "            pattern='\\n'\n",
    "            re.match(pattern,)\n",
    "                print(lines)\n",
    "occurances()\n",
    "        "
   ]
  },
  {
   "cell_type": "code",
   "execution_count": null,
   "metadata": {},
   "outputs": [],
   "source": []
  },
  {
   "cell_type": "code",
   "execution_count": null,
   "metadata": {},
   "outputs": [],
   "source": []
  },
  {
   "cell_type": "code",
   "execution_count": null,
   "metadata": {},
   "outputs": [],
   "source": []
  },
  {
   "cell_type": "code",
   "execution_count": null,
   "metadata": {},
   "outputs": [],
   "source": []
  },
  {
   "cell_type": "code",
   "execution_count": null,
   "metadata": {},
   "outputs": [],
   "source": []
  },
  {
   "cell_type": "code",
   "execution_count": null,
   "metadata": {},
   "outputs": [],
   "source": []
  },
  {
   "cell_type": "code",
   "execution_count": null,
   "metadata": {},
   "outputs": [],
   "source": []
  },
  {
   "cell_type": "code",
   "execution_count": null,
   "metadata": {},
   "outputs": [],
   "source": []
  },
  {
   "cell_type": "code",
   "execution_count": null,
   "metadata": {},
   "outputs": [],
   "source": []
  },
  {
   "cell_type": "code",
   "execution_count": null,
   "metadata": {},
   "outputs": [],
   "source": []
  },
  {
   "cell_type": "code",
   "execution_count": null,
   "metadata": {},
   "outputs": [],
   "source": []
  },
  {
   "cell_type": "code",
   "execution_count": null,
   "metadata": {},
   "outputs": [],
   "source": []
  }
 ],
 "metadata": {
  "kernelspec": {
   "display_name": "Python 3",
   "language": "python",
   "name": "python3"
  },
  "language_info": {
   "codemirror_mode": {
    "name": "ipython",
    "version": 3
   },
   "file_extension": ".py",
   "mimetype": "text/x-python",
   "name": "python",
   "nbconvert_exporter": "python",
   "pygments_lexer": "ipython3",
   "version": "3.7.3"
  }
 },
 "nbformat": 4,
 "nbformat_minor": 2
}
