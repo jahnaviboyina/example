{
 "cells": [
  {
   "cell_type": "markdown",
   "metadata": {},
   "source": [
    "### String slicing"
   ]
  },
  {
   "cell_type": "code",
   "execution_count": 51,
   "metadata": {},
   "outputs": [
    {
     "name": "stdout",
     "output_type": "stream",
     "text": [
      "a j\n"
     ]
    },
    {
     "data": {
      "text/plain": [
       "'hjn'"
      ]
     },
     "execution_count": 51,
     "metadata": {},
     "output_type": "execute_result"
    }
   ],
   "source": [
    "s1=\"hijanu\"\n",
    "s=len(s1)\n",
    "if(s%2==0):\n",
    "    print (s1[s//2],s1[s//2-1])\n",
    "else:\n",
    "    print (s1[s//2])\n",
    "\n",
    "\n",
    "s1[-1::-1]# Reverse of a string\n",
    "s1[-1:-3:-1]#Access last two char in reverse order\n",
    "#Reverse the middle two char in an even length string\n",
    "s1[::2]#Accessing alternate characters\n",
    "s1[::-2]#Accessing alternate charac in rev order\n"
   ]
  },
  {
   "cell_type": "markdown",
   "metadata": {},
   "source": [
    "## Functions"
   ]
  },
  {
   "cell_type": "code",
   "execution_count": 57,
   "metadata": {},
   "outputs": [
    {
     "data": {
      "text/plain": [
       "'unaj'"
      ]
     },
     "execution_count": 57,
     "metadata": {},
     "output_type": "execute_result"
    }
   ],
   "source": [
    "#Function to reverse a string\n",
    "def reverseString(s):\n",
    "    return s[::-1]\n",
    "\n",
    "reverseString(\"janu\")\n"
   ]
  },
  {
   "cell_type": "code",
   "execution_count": 66,
   "metadata": {},
   "outputs": [
    {
     "data": {
      "text/plain": [
       "False"
      ]
     },
     "execution_count": 66,
     "metadata": {},
     "output_type": "execute_result"
    }
   ],
   "source": [
    "#Function to check if a string is a palindrome\n",
    "def palindrome(s):\n",
    "    if s==s[::-1]:\n",
    "        return True\n",
    "    else:\n",
    "        return False\n",
    "\n",
    "palindrome(\"janu\")\n",
    "\n"
   ]
  },
  {
   "cell_type": "code",
   "execution_count": 73,
   "metadata": {},
   "outputs": [
    {
     "data": {
      "text/plain": [
       "True"
      ]
     },
     "execution_count": 73,
     "metadata": {},
     "output_type": "execute_result"
    }
   ],
   "source": [
    "#leap year\n",
    "def leapyear(year):\n",
    "    if(year%400==0 or (year%100!=0 and year%4==0)):\n",
    "        return True\n",
    "    else:\n",
    "        return False\n",
    "    \n",
    "leapyear(2020)"
   ]
  },
  {
   "cell_type": "code",
   "execution_count": 90,
   "metadata": {},
   "outputs": [
    {
     "data": {
      "text/plain": [
       "4"
      ]
     },
     "execution_count": 90,
     "metadata": {},
     "output_type": "execute_result"
    }
   ],
   "source": [
    "#count digits\n",
    "def count(num):\n",
    "    return len(str(num))\n",
    "\n",
    "count(1223)\n",
    "    "
   ]
  },
  {
   "cell_type": "code",
   "execution_count": 93,
   "metadata": {},
   "outputs": [
    {
     "data": {
      "text/plain": [
       "7"
      ]
     },
     "execution_count": 93,
     "metadata": {},
     "output_type": "execute_result"
    }
   ],
   "source": [
    "#greatest among 4 num\n",
    "def greatest(n1,n2,n3,n4):\n",
    "    if(n1>=n2 and n1>=n3 and n1>=n4):\n",
    "        return n1\n",
    "    elif(n2>=n1 and n2>=n3 and n2>=n4):\n",
    "        return n2\n",
    "    elif(n3>=n1 and n3>=n2 and n3>=n4):\n",
    "        return n3\n",
    "    else:\n",
    "        return n4\n",
    "    \n",
    "greatest(2,7,7,5)"
   ]
  },
  {
   "cell_type": "markdown",
   "metadata": {},
   "source": [
    "## Iteration\n",
    "* for\n",
    "* while\n"
   ]
  },
  {
   "cell_type": "code",
   "execution_count": 101,
   "metadata": {},
   "outputs": [
    {
     "name": "stdout",
     "output_type": "stream",
     "text": [
      "1 2 3 4 5 6 7 8 9 10 "
     ]
    }
   ],
   "source": [
    "# function to print n natural num\n",
    "def printNNaturalnum(n):\n",
    "    for counter in range(1,n+1):\n",
    "        print(counter, end=\" \")\n",
    "    return\n",
    "printNNaturalnum(10)"
   ]
  },
  {
   "cell_type": "code",
   "execution_count": 104,
   "metadata": {},
   "outputs": [
    {
     "name": "stdout",
     "output_type": "stream",
     "text": [
      "1 2 3 4 5 6 7 8 9 10 "
     ]
    }
   ],
   "source": [
    "def nNaturalnum(n):\n",
    "    counter =1\n",
    "    while counter<=n:\n",
    "        print(counter, end=\" \")\n",
    "        counter= counter+1\n",
    "    return\n",
    "\n",
    "nNaturalnum(10)\n",
    "    "
   ]
  },
  {
   "cell_type": "code",
   "execution_count": null,
   "metadata": {},
   "outputs": [],
   "source": [
    "#Function to print all numbers divisible by 6 and \n",
    "def divisible(lb,ub):\n",
    "    count=lb\n",
    "    while(count<=ub):\n",
    "        if(count%6==0 and 100%count!=0):\n",
    "            print(count,end=\" \")\n",
    "        count=count+1\n",
    "\n",
    "\n",
    "divisible(0,50)\n",
    "            \n"
   ]
  },
  {
   "cell_type": "code",
   "execution_count": null,
   "metadata": {},
   "outputs": [],
   "source": [
    "# Not a factor of 100 in a given range(lb,ub) inclusive\n",
    "def average(lb,ub):\n",
    "    count=lb\n",
    "    for count in range(count,uba=)"
   ]
  },
  {
   "cell_type": "code",
   "execution_count": 1,
   "metadata": {},
   "outputs": [
    {
     "name": "stdout",
     "output_type": "stream",
     "text": [
      "6 12 18 24 30 36 42 48 54 60 66 72 78 84 90 96 102 108 114 120 126 132 138 144 150 156 162 168 174 180 186 192 198 204 210 216 222 228 234 240 246 252 258 264 270 276 282 288 294 300 306 312 318 324 330 336 342 348 354 360 366 372 378 384 390 396 402 408 414 420 426 432 438 444 450 456 462 468 474 480 486 492 498 504 510 516 522 528 534 540 546 552 558 564 570 576 582 588 594 600 606 612 618 624 630 636 642 648 654 660 666 672 678 684 690 696 702 708 714 720 726 732 738 744 750 756 762 768 774 780 786 792 798 804 810 816 822 828 834 840 846 852 858 864 870 876 882 888 894 900 906 912 918 924 930 936 942 948 954 960 966 972 978 984 990 996 "
     ]
    }
   ],
   "source": [
    "#Function to print all numbers divisible by 6 and \n",
    "def divisible(lb,ub):\n",
    "    while(lb<=ub):\n",
    "        if(lb%6==0 and 100%lb!=0):\n",
    "            print(lb,end=\" \")\n",
    "        lb=lb+1\n",
    "divisible(1,1000)"
   ]
  },
  {
   "cell_type": "code",
   "execution_count": 19,
   "metadata": {},
   "outputs": [
    {
     "name": "stdout",
     "output_type": "stream",
     "text": [
      "16\n"
     ]
    }
   ],
   "source": []
  },
  {
   "cell_type": "code",
   "execution_count": 4,
   "metadata": {},
   "outputs": [
    {
     "name": "stdout",
     "output_type": "stream",
     "text": [
      "360.0\n"
     ]
    }
   ],
   "source": [
    "def cubes(lb,ub):\n",
    "    sum=0\n",
    "    count=0\n",
    "    for i in range(lb,ub+1):\n",
    "        if(i%2==0):\n",
    "            sum=sum+i**3\n",
    "            count=count+1\n",
    "    avg=sum/count\n",
    "    print(avg)\n",
    "cubes(1,10)            "
   ]
  },
  {
   "cell_type": "code",
   "execution_count": 8,
   "metadata": {},
   "outputs": [
    {
     "data": {
      "text/plain": [
       "120"
      ]
     },
     "execution_count": 8,
     "metadata": {},
     "output_type": "execute_result"
    }
   ],
   "source": [
    "def factorial(num):\n",
    "    fact=1\n",
    "    sum=0\n",
    "    count=1\n",
    "    for i in range(1,num+1):\n",
    "        fact=fact*i\n",
    "    return fact\n",
    "factorial(5)\n",
    "    "
   ]
  },
  {
   "cell_type": "code",
   "execution_count": 27,
   "metadata": {},
   "outputs": [
    {
     "data": {
      "text/plain": [
       "True"
      ]
     },
     "execution_count": 27,
     "metadata": {},
     "output_type": "execute_result"
    }
   ],
   "source": [
    "def prime(num):\n",
    "    count=0\n",
    "    for i in range(1,num+1):\n",
    "        if(num%i==0):\n",
    "            count=count+1\n",
    "    if (count==2):\n",
    "        return True\n",
    "    else:\n",
    "        return False\n",
    "prime(5)    "
   ]
  },
  {
   "cell_type": "code",
   "execution_count": 11,
   "metadata": {},
   "outputs": [
    {
     "name": "stdout",
     "output_type": "stream",
     "text": [
      "3.0\n"
     ]
    }
   ],
   "source": [
    "def Nprime(ran):\n",
    "    count=0\n",
    "    count1=0\n",
    "    sum=0\n",
    "    for i in range(1,ran+1):\n",
    "        for j in range(1,i):\n",
    "            if(i%j==0):\n",
    "                count=count+1\n",
    "        if(count==2):\n",
    "            sum=sum+i\n",
    "            count1=count1+1\n",
    "    avg=sum/count1\n",
    "    print(avg)\n",
    "Nprime(100)\n",
    "\n",
    "        "
   ]
  },
  {
   "cell_type": "code",
   "execution_count": null,
   "metadata": {},
   "outputs": [],
   "source": []
  },
  {
   "cell_type": "code",
   "execution_count": 20,
   "metadata": {},
   "outputs": [
    {
     "data": {
      "text/plain": [
       "8.25"
      ]
     },
     "execution_count": 20,
     "metadata": {},
     "output_type": "execute_result"
    }
   ],
   "source": [
    "def avgfactorial(lb,ub):\n",
    "    total=0\n",
    "    for i in range(lb,ub+1):\n",
    "        total=total+factorial(i)\n",
    "    return total/ub\n",
    "avgfactorial(1,4)"
   ]
  },
  {
   "cell_type": "markdown",
   "metadata": {},
   "source": [
    "def alternateValues(lb,ub):\n",
    "    for i in range(lb,ub+1,2):\n",
    "        print(i)\n",
    "    return\n",
    "alternateValues(0,10)"
   ]
  },
  {
   "cell_type": "code",
   "execution_count": 2,
   "metadata": {},
   "outputs": [
    {
     "name": "stdout",
     "output_type": "stream",
     "text": [
      "10\n",
      "9\n",
      "8\n",
      "7\n",
      "6\n",
      "5\n",
      "4\n",
      "3\n",
      "2\n",
      "1\n"
     ]
    }
   ],
   "source": [
    "def reverse(lb,ub):\n",
    "    for i in range(ub,lb-1,-1):\n",
    "        print(i)\n",
    "    return\n",
    "reverse(1,10)"
   ]
  },
  {
   "cell_type": "code",
   "execution_count": 35,
   "metadata": {},
   "outputs": [
    {
     "name": "stdout",
     "output_type": "stream",
     "text": [
      "9\n",
      "7\n",
      "5\n",
      "3\n",
      "1\n"
     ]
    }
   ],
   "source": [
    "#print odd num in reverse order in a  given range\n",
    "def oddrev(lb,ub):\n",
    "    for i in range(ub,lb-1,-1):\n",
    "        if(i%2==1):\n",
    "            print(i)\n",
    "oddrev(1,10)"
   ]
  },
  {
   "cell_type": "code",
   "execution_count": 65,
   "metadata": {},
   "outputs": [
    {
     "name": "stdout",
     "output_type": "stream",
     "text": [
      "15150\n"
     ]
    }
   ],
   "source": [
    "#print the sum of numbers in a given range\n",
    "def sumran(lb,ub):\n",
    "    total=0\n",
    "    for i in range(lb,ub+1):\n",
    "        total=total+i\n",
    "    print(total)\n",
    "sumran(100,200)"
   ]
  },
  {
   "cell_type": "code",
   "execution_count": 1,
   "metadata": {},
   "outputs": [
    {
     "name": "stdout",
     "output_type": "stream",
     "text": [
      "3 * 100 = 300\n",
      "3 * 101 = 303\n",
      "3 * 102 = 306\n"
     ]
    }
   ],
   "source": [
    "#multiplication of num in a given range\n",
    "def multiplication(lb,ub,num):\n",
    "    total=0\n",
    "    for i in range(lb,ub+1):\n",
    "        c=num*i\n",
    "        print(num,\"*\",i,\"=\",c)\n",
    "multiplication(100,102,3)\n",
    "        "
   ]
  },
  {
   "cell_type": "code",
   "execution_count": 3,
   "metadata": {},
   "outputs": [
    {
     "data": {
      "text/plain": [
       "True"
      ]
     },
     "execution_count": 3,
     "metadata": {},
     "output_type": "execute_result"
    }
   ],
   "source": [
    "def amstrong(num):\n",
    "    temp=num\n",
    "    total=0\n",
    "    while(temp!=0):\n",
    "        temp1=temp\n",
    "        temp=temp%10\n",
    "        total=total+temp**3\n",
    "        temp=temp1//10\n",
    "    if(total==num):\n",
    "        return True\n",
    "    else:\n",
    "        return False\n",
    "\n",
    "amstrong(153)   "
   ]
  },
  {
   "cell_type": "code",
   "execution_count": 5,
   "metadata": {},
   "outputs": [
    {
     "data": {
      "text/plain": [
       "True"
      ]
     },
     "execution_count": 5,
     "metadata": {},
     "output_type": "execute_result"
    }
   ],
   "source": [
    "#generate all leap years in a given time period\n",
    "def isLeap(year):\n",
    "    if(year%400==0 or (year%100!=0 and year%4==0)):\n",
    "        return True\n",
    "    return False\n",
    "\n",
    "isLeap(2000)\n",
    "        \n",
    "        "
   ]
  },
  {
   "cell_type": "code",
   "execution_count": 4,
   "metadata": {},
   "outputs": [
    {
     "ename": "NameError",
     "evalue": "name 'isLeap' is not defined",
     "output_type": "error",
     "traceback": [
      "\u001b[1;31m---------------------------------------------------------------------------\u001b[0m",
      "\u001b[1;31mNameError\u001b[0m                                 Traceback (most recent call last)",
      "\u001b[1;32m<ipython-input-4-085a288e9a47>\u001b[0m in \u001b[0;36m<module>\u001b[1;34m\u001b[0m\n\u001b[0;32m      4\u001b[0m             \u001b[1;32mreturn\u001b[0m \u001b[0myear\u001b[0m\u001b[1;33m\u001b[0m\u001b[1;33m\u001b[0m\u001b[0m\n\u001b[0;32m      5\u001b[0m \u001b[1;33m\u001b[0m\u001b[0m\n\u001b[1;32m----> 6\u001b[1;33m \u001b[0mrangeleap\u001b[0m\u001b[1;33m(\u001b[0m\u001b[1;36m2000\u001b[0m\u001b[1;33m,\u001b[0m\u001b[1;36m2020\u001b[0m\u001b[1;33m)\u001b[0m\u001b[1;33m\u001b[0m\u001b[1;33m\u001b[0m\u001b[0m\n\u001b[0m",
      "\u001b[1;32m<ipython-input-4-085a288e9a47>\u001b[0m in \u001b[0;36mrangeleap\u001b[1;34m(lb, ub)\u001b[0m\n\u001b[0;32m      1\u001b[0m \u001b[1;32mdef\u001b[0m \u001b[0mrangeleap\u001b[0m\u001b[1;33m(\u001b[0m\u001b[0mlb\u001b[0m\u001b[1;33m,\u001b[0m\u001b[0mub\u001b[0m\u001b[1;33m)\u001b[0m\u001b[1;33m:\u001b[0m\u001b[1;33m\u001b[0m\u001b[1;33m\u001b[0m\u001b[0m\n\u001b[0;32m      2\u001b[0m     \u001b[1;32mfor\u001b[0m \u001b[0myear\u001b[0m \u001b[1;32min\u001b[0m \u001b[0mrange\u001b[0m\u001b[1;33m(\u001b[0m\u001b[0mlb\u001b[0m\u001b[1;33m,\u001b[0m\u001b[0mub\u001b[0m\u001b[1;33m+\u001b[0m\u001b[1;36m1\u001b[0m\u001b[1;33m)\u001b[0m\u001b[1;33m:\u001b[0m\u001b[1;33m\u001b[0m\u001b[1;33m\u001b[0m\u001b[0m\n\u001b[1;32m----> 3\u001b[1;33m         \u001b[1;32mif\u001b[0m\u001b[1;33m(\u001b[0m\u001b[0misLeap\u001b[0m\u001b[1;33m(\u001b[0m\u001b[0myear\u001b[0m\u001b[1;33m)\u001b[0m\u001b[1;33m==\u001b[0m\u001b[1;32mTrue\u001b[0m\u001b[1;33m)\u001b[0m\u001b[1;33m:\u001b[0m\u001b[1;33m\u001b[0m\u001b[1;33m\u001b[0m\u001b[0m\n\u001b[0m\u001b[0;32m      4\u001b[0m             \u001b[1;32mreturn\u001b[0m \u001b[0myear\u001b[0m\u001b[1;33m\u001b[0m\u001b[1;33m\u001b[0m\u001b[0m\n\u001b[0;32m      5\u001b[0m \u001b[1;33m\u001b[0m\u001b[0m\n",
      "\u001b[1;31mNameError\u001b[0m: name 'isLeap' is not defined"
     ]
    }
   ],
   "source": [
    "def rangeleap(lb,ub):\n",
    "    for year in range(lb,ub+1):\n",
    "        if(isLeap(year)==True):\n",
    "            pri(year,end=\" \")\n",
    "\n",
    "rangeleap(2000,2020)"
   ]
  },
  {
   "cell_type": "code",
   "execution_count": 7,
   "metadata": {},
   "outputs": [
    {
     "data": {
      "text/plain": [
       "1461"
      ]
     },
     "execution_count": 7,
     "metadata": {},
     "output_type": "execute_result"
    }
   ],
   "source": [
    "#time period for given range \n",
    "def day(lb,ub):\n",
    "    total=0\n",
    "    for year in range(lb,ub+1):\n",
    "        if(isLeap(year)==True):\n",
    "            days=366\n",
    "        else:\n",
    "            days=365\n",
    "        total=total+days\n",
    "    return total\n",
    "day(2000,2003)\n",
    "    "
   ]
  },
  {
   "cell_type": "code",
   "execution_count": null,
   "metadata": {},
   "outputs": [],
   "source": [
    "#calculate the number of hours for a given period(month1,year1,month2,year2)\n",
    "def no\n",
    "\n",
    "            "
   ]
  },
  {
   "cell_type": "code",
   "execution_count": null,
   "metadata": {},
   "outputs": [],
   "source": [
    "def Namstrong(num):\n",
    "    count=1\n",
    "    while num != 0:\n",
    "        if amstrong(count):\n",
    "            if(count%2==1):\n",
    "                print(count)\n",
    "                num-=1\n",
    "        count=count+1\n",
    "\n",
    "Namstrong(5)"
   ]
  },
  {
   "cell_type": "code",
   "execution_count": 12,
   "metadata": {},
   "outputs": [
    {
     "data": {
      "text/plain": [
       "True"
      ]
     },
     "execution_count": 12,
     "metadata": {},
     "output_type": "execute_result"
    }
   ],
   "source": [
    "def perfect(num):\n",
    "    sum=0\n",
    "    for i in range(1,num):\n",
    "        if(num%i==0):\n",
    "            sum=sum+i\n",
    "    if(sum==num):\n",
    "        return True\n",
    "    else:\n",
    "        return False\n",
    "perfect(6)"
   ]
  },
  {
   "cell_type": "code",
   "execution_count": 20,
   "metadata": {},
   "outputs": [
    {
     "name": "stdout",
     "output_type": "stream",
     "text": [
      "6\n",
      "28\n",
      "496\n"
     ]
    }
   ],
   "source": [
    "def Nperfect(num):\n",
    "    count=1\n",
    "    while num!=0:\n",
    "        if perfect(count):\n",
    "            num-=1\n",
    "            print(count)\n",
    "        count=count+1\n",
    "Nperfect(3)"
   ]
  },
  {
   "cell_type": "code",
   "execution_count": 24,
   "metadata": {},
   "outputs": [
    {
     "name": "stdout",
     "output_type": "stream",
     "text": [
      "6\n",
      "28\n",
      "496\n"
     ]
    }
   ],
   "source": [
    "def rangeperfect(lb,ub):\n",
    "    for i in range(lb,ub+1):\n",
    "        if perfect(i):\n",
    "            print(i)\n",
    "\n",
    "rangeperfect(1,500)\n",
    "        "
   ]
  },
  {
   "cell_type": "code",
   "execution_count": 31,
   "metadata": {},
   "outputs": [
    {
     "name": "stdout",
     "output_type": "stream",
     "text": [
      "2\n",
      "3\n",
      "5\n",
      "7\n",
      "11\n"
     ]
    }
   ],
   "source": [
    "def Nprime(num):\n",
    "    temp=0\n",
    "    while num!=0:\n",
    "        if(prime(temp)):\n",
    "            num-=1\n",
    "            print(temp)\n",
    "        temp=temp+1\n",
    "Nprime(5)\n",
    "        "
   ]
  },
  {
   "cell_type": "code",
   "execution_count": 33,
   "metadata": {},
   "outputs": [
    {
     "name": "stdout",
     "output_type": "stream",
     "text": [
      "2 3 5 7 11 13 17 19 23 29 31 37 41 43 47 53 59 61 67 71 73 79 83 89 97 101 103 107 109 113 127 131 137 139 149 151 157 163 167 173 179 181 191 193 197 199 211 223 227 229 233 239 241 251 257 263 269 271 277 281 283 293 307 311 313 317 331 337 347 349 353 359 367 373 379 383 389 397 401 409 419 421 431 433 439 443 449 457 461 463 467 479 487 491 499 "
     ]
    }
   ],
   "source": [
    "def rangeprime(lb,ub):\n",
    "    for i in range(lb,ub+1):\n",
    "        if prime(i):\n",
    "            print(i,end=\" \")\n",
    "\n",
    "rangeprime(1,500)"
   ]
  },
  {
   "cell_type": "code",
   "execution_count": 9,
   "metadata": {},
   "outputs": [
    {
     "data": {
      "text/plain": [
       "1464"
      ]
     },
     "execution_count": 9,
     "metadata": {},
     "output_type": "execute_result"
    }
   ],
   "source": [
    "\n",
    "# Function to calculate number of hours for a given period in the format(month1, year1, month2, year2)\n",
    "# numberOfHours(11, 1975, 3, 1999) -> 204504 or 205248\n",
    "# numberOfHours(5, 2019, 6, 2019) -> 1464\n",
    "# 2, 2016 , 6, 2019\n",
    "# \n",
    "#  [all days from feb 2016 to dec 2016, \n",
    "# .  all days for years between 2016+1 and 2019-1,\n",
    "#     all days from Jan to June 2019]\n",
    "#No of hours = 24 * No of days\n",
    "# 3 steps\n",
    "    #1. start month year to end of year - calculate no of days\n",
    "    #2. Calculate days for all years between start year and end year exclusive\n",
    "            # 2017, 2018 - 365 * no of years\n",
    "    #3. calculate days from Jan to end month year\n",
    "\n",
    "# Excluding Feb\n",
    "# First Six months - 1, 3, 4, 5, 6, 7 \n",
    "                    # All odd months have 31 days\n",
    "                    # All even months have 30 days\n",
    "# Last Six months - 8, 9, 10, 11, 12\n",
    "                    # All even months have 31 days\n",
    "                    # All odd months have 30 days\n",
    "        \n",
    "# 31 days - (month <= 7 and month % 2 != 0 and month != 2) || (month >= 8 and month %2 == 0)\n",
    "#                return 31\n",
    "#\n",
    "#            else\n",
    "#                return 30\n",
    "\n",
    "\n",
    "\n",
    "def numberOfDaysMonth(month, year):\n",
    "    if month == 2:\n",
    "        if isLeap(year):\n",
    "            return 29\n",
    "        return 28\n",
    "    elif (month <= 7 and month % 2!= 0) or (month >= 8 and month % 2 == 0):\n",
    "        return 31\n",
    "    else:\n",
    "        return 30\n",
    "\n",
    "def daysInStartYear(startmonth, startyear):\n",
    "    days = 0 \n",
    "    for month in range(startmonth, 13):\n",
    "        days += numberOfDaysMonth(month, startyear)\n",
    "    return days    \n",
    "\n",
    "def daysInEndYear(endmonth, endyear):\n",
    "    days = 0\n",
    "    for month in range(1, endmonth+1):\n",
    "        days += numberOfDaysMonth(month, endyear)\n",
    "    return days\n",
    "\n",
    "def numberOfHours(startmonth, startyear, endmonth, endyear):\n",
    "    days = 0\n",
    "    if startyear != endyear:\n",
    "        days += daysInStartYear(startmonth, startyear)\n",
    "        days += daysInEndYear(endmonth, endyear)\n",
    "        if endyear - startyear == 2: # 2019 - 2017\n",
    "            days += day(startyear+1, startyear+1)\n",
    "        elif endyear - startyear > 2:\n",
    "            days +=day(startyear+1, endyear-1)\n",
    "    else:\n",
    "        for month in range(startmonth, endmonth+1):\n",
    "            days += numberOfDaysMonth(month, startyear)\n",
    "    return 24 * days\n",
    "\n",
    "numberOfHours(6, 2018, 7, 2018)"
   ]
  },
  {
   "cell_type": "code",
   "execution_count": null,
   "metadata": {},
   "outputs": [],
   "source": []
  },
  {
   "cell_type": "code",
   "execution_count": null,
   "metadata": {},
   "outputs": [],
   "source": []
  },
  {
   "cell_type": "code",
   "execution_count": null,
   "metadata": {},
   "outputs": [],
   "source": []
  },
  {
   "cell_type": "code",
   "execution_count": null,
   "metadata": {},
   "outputs": [],
   "source": []
  },
  {
   "cell_type": "code",
   "execution_count": null,
   "metadata": {},
   "outputs": [],
   "source": []
  },
  {
   "cell_type": "code",
   "execution_count": null,
   "metadata": {},
   "outputs": [],
   "source": []
  }
 ],
 "metadata": {
  "kernelspec": {
   "display_name": "Python 3",
   "language": "python",
   "name": "python3"
  },
  "language_info": {
   "codemirror_mode": {
    "name": "ipython",
    "version": 3
   },
   "file_extension": ".py",
   "mimetype": "text/x-python",
   "name": "python",
   "nbconvert_exporter": "python",
   "pygments_lexer": "ipython3",
   "version": "3.7.3"
  }
 },
 "nbformat": 4,
 "nbformat_minor": 2
}
