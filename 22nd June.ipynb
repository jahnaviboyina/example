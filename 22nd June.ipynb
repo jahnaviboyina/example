{
 "cells": [
  {
   "cell_type": "markdown",
   "metadata": {},
   "source": [
    "### Day objectives\n",
    "### Date: 22 June 2019\n",
    "- File handling\n",
    "    - Basic File dataprocessing\n",
    "        - Accessing and Modifying file data\n",
    "    - Character count\n",
    "    - Line count\n",
    "    - File size\n",
    "    - Word count\n",
    "    - Unique word count"
   ]
  },
  {
   "cell_type": "code",
   "execution_count": 1,
   "metadata": {},
   "outputs": [
    {
     "name": "stdout",
     "output_type": "stream",
     "text": [
      "\n",
      "happy\n"
     ]
    }
   ],
   "source": [
    "# To read a file- File should exist \n",
    "#To write a file- File may or may not exist,it automatically creates a file\n",
    "fh=open(\"book.txt\",'a')\n",
    "data=\"\\nhappy\"\n",
    "fh.write(data)\n",
    "fh.close()\n",
    "fh=open(\"book.txt\",'r')\n",
    "print(fh.read())\n",
    "fh.close()"
   ]
  },
  {
   "cell_type": "code",
   "execution_count": 3,
   "metadata": {},
   "outputs": [
    {
     "name": "stdout",
     "output_type": "stream",
     "text": [
      "hi januhappy\n",
      "happy\n"
     ]
    }
   ],
   "source": [
    "def filehand(filepath):\n",
    "    with open(filepath, 'r') as f:\n",
    "        filedata=f.read()\n",
    "    return filedata\n",
    "filepath=\"Datafiles/book.txt\"\n",
    "print(filehand(filepath))\n",
    "\n",
    "\n",
    "        "
   ]
  },
  {
   "cell_type": "code",
   "execution_count": 7,
   "metadata": {},
   "outputs": [],
   "source": [
    "def filehandl(filepath,filedata):\n",
    "    with open(filepath, 'w') as f:\n",
    "        f.write(filedata)\n",
    "filepath=\"Datafiles/book.txt\"\n",
    "filehandl(filepath,\"HELLO\")"
   ]
  },
  {
   "cell_type": "code",
   "execution_count": 70,
   "metadata": {},
   "outputs": [
    {
     "name": "stdout",
     "output_type": "stream",
     "text": [
      "no of characters 17 \n",
      "no of words 3 \n",
      "no of lines 2\n"
     ]
    }
   ],
   "source": [
    "def linecount(filepath):\n",
    "    with open(filepath,'r') as f:\n",
    "        countline=0\n",
    "        countword=0\n",
    "        countchar=0\n",
    "        for lines in f:\n",
    "            nowor=lines.split()\n",
    "            countline=countline+1\n",
    "            countword=countword+len(nowor)\n",
    "            if(countline>1):\n",
    "                countchar=countchar+len(lines)-countline+1\n",
    "            else:\n",
    "                countchar=countchar+len(lines)\n",
    "        print(\"no of characters\",countchar, \"\\nno of words\",countword,\"\\nno of lines\",countline)\n",
    "filepath=\"Datafiles/book.txt\"\n",
    "linecount(filepath)"
   ]
  },
  {
   "cell_type": "code",
   "execution_count": 119,
   "metadata": {},
   "outputs": [
    {
     "name": "stdout",
     "output_type": "stream",
     "text": [
      "file size is 46.327744 Mb\n"
     ]
    }
   ],
   "source": [
    "import os\n",
    "def filesize(filepath):\n",
    "        c=os.path.getsize(filepath)\n",
    "        if(c<1000):\n",
    "            print(\"file size is\",c,\"bytes\")\n",
    "        elif(c>1000 and c<1000000):\n",
    "            c=c/1000\n",
    "            print(\"file size is\",c,\"Kb\")\n",
    "        elif(c>1000000 and c<100000000):\n",
    "            c=c/1000000\n",
    "            print(\"file size is\",c,\"Mb\")\n",
    "        else:\n",
    "            c=c/100000000\n",
    "            print(\"file size is\",c,\"Gb\")\n",
    "filepath=\"Datafiles/Git-2.21.0-64-bit.exe\"\n",
    "filesize(filepath)\n",
    "    "
   ]
  },
  {
   "cell_type": "code",
   "execution_count": 141,
   "metadata": {},
   "outputs": [
    {
     "name": "stdout",
     "output_type": "stream",
     "text": [
      "unique word count 4\n"
     ]
    }
   ],
   "source": [
    "def uniqueword(filepath):\n",
    "    with open(filepath,'r') as f:\n",
    "        li=[]\n",
    "        c=0   #word count\n",
    "        c1=0\n",
    "        for lines in f:\n",
    "            nowor=lines.split()\n",
    "            for line in nowor:\n",
    "                c=c+1\n",
    "                if line not in li:\n",
    "                    c1=c1+1\n",
    "                    li.append(line)\n",
    "    te=c-c1\n",
    "    uni=c1-te\n",
    "    print(\"unique word count\", uni)\n",
    "filepath=\"Datafiles/book.txt\"\n",
    "uniqueword(filepath)"
   ]
  },
  {
   "cell_type": "code",
   "execution_count": null,
   "metadata": {},
   "outputs": [],
   "source": [
    "# Life,Universe and Everything\n",
    "def life(num):\n",
    "    \n",
    "def "
   ]
  },
  {
   "cell_type": "code",
   "execution_count": 185,
   "metadata": {},
   "outputs": [
    {
     "name": "stdout",
     "output_type": "stream",
     "text": [
      "13U357-22\n",
      "invalid\n"
     ]
    }
   ],
   "source": [
    "def helping(s):\n",
    "    c=len(s)\n",
    "    l=0\n",
    "    if(c==9):\n",
    "        for i in range(0,c):\n",
    "            if(s[2]!='A' and s[2]!='E' and s[2]!='I' and s[2]!='O' and s[2]!='U' and s[2]!='Y' and s[6]=='-'):\n",
    "                if((int(s[0])+int(s[1]))%2==0 and (int(s[3])+int(s[4]))%2==0 and (int(s[4])+int(s[5]))%2==0 and (int(s[7])+int(s[8]))%2==0):\n",
    "                    l=1\n",
    "        if(l==1):\n",
    "            print(\"valid\")\n",
    "                \n",
    "        else:\n",
    "            print(\"invalid\")\n",
    "def help():\n",
    "    s=input()\n",
    "    helping(s)\n",
    "help()"
   ]
  },
  {
   "cell_type": "code",
   "execution_count": 165,
   "metadata": {},
   "outputs": [
    {
     "data": {
      "text/plain": [
       "True"
      ]
     },
     "execution_count": 165,
     "metadata": {},
     "output_type": "execute_result"
    }
   ],
   "source": [
    "s=\"24X428-86\"\n",
    "len(s)\n",
    "s[6]=='-'"
   ]
  },
  {
   "cell_type": "code",
   "execution_count": null,
   "metadata": {},
   "outputs": [],
   "source": []
  },
  {
   "cell_type": "code",
   "execution_count": null,
   "metadata": {},
   "outputs": [],
   "source": [
    "12X345-67"
   ]
  }
 ],
 "metadata": {
  "kernelspec": {
   "display_name": "Python 3",
   "language": "python",
   "name": "python3"
  },
  "language_info": {
   "codemirror_mode": {
    "name": "ipython",
    "version": 3
   },
   "file_extension": ".py",
   "mimetype": "text/x-python",
   "name": "python",
   "nbconvert_exporter": "python",
   "pygments_lexer": "ipython3",
   "version": "3.7.3"
  }
 },
 "nbformat": 4,
 "nbformat_minor": 2
}
