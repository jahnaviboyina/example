{
 "cells": [
  {
   "cell_type": "code",
   "execution_count": 3,
   "metadata": {},
   "outputs": [
    {
     "name": "stdout",
     "output_type": "stream",
     "text": [
      "2\n",
      "1 30 3 20\n",
      "1 50\n",
      "2 30 4 60\n",
      "2 30\n"
     ]
    }
   ],
   "source": [
    "# duration\n",
    "def duration(sh,sm,eh,em):\n",
    "    sminutes=sh*60+sm\n",
    "    eminutes=eh*60+em\n",
    "    total=eminutes-sminutes\n",
    "    fmin=total%60\n",
    "    fhour=total//60\n",
    "    print(fhour,fmin)\n",
    "    \n",
    "def dur():\n",
    "    a=int(input())\n",
    "    for i in range(1,a+1):\n",
    "        n=input().split()\n",
    "        b=int(n[0])\n",
    "        c=int(n[1])\n",
    "        d=int(n[2])\n",
    "        e=int(n[3])\n",
    "        duration(b,c,d,e)\n",
    "dur()"
   ]
  },
  {
   "cell_type": "code",
   "execution_count": 13,
   "metadata": {},
   "outputs": [
    {
     "ename": "NameError",
     "evalue": "name 'x' is not defined",
     "output_type": "error",
     "traceback": [
      "\u001b[1;31m---------------------------------------------------------------------------\u001b[0m",
      "\u001b[1;31mNameError\u001b[0m                                 Traceback (most recent call last)",
      "\u001b[1;32m<ipython-input-13-cc7a4105be00>\u001b[0m in \u001b[0;36m<module>\u001b[1;34m\u001b[0m\n\u001b[0;32m     11\u001b[0m         \u001b[1;32melse\u001b[0m\u001b[1;33m:\u001b[0m\u001b[1;33m\u001b[0m\u001b[1;33m\u001b[0m\u001b[0m\n\u001b[0;32m     12\u001b[0m             \u001b[0my\u001b[0m\u001b[1;33m=\u001b[0m\u001b[0my\u001b[0m\u001b[1;33m-\u001b[0m\u001b[1;36m1\u001b[0m\u001b[1;33m\u001b[0m\u001b[1;33m\u001b[0m\u001b[0m\n\u001b[1;32m---> 13\u001b[1;33m \u001b[0mprint\u001b[0m\u001b[1;33m(\u001b[0m\u001b[0mx\u001b[0m\u001b[1;33m,\u001b[0m\u001b[0my\u001b[0m\u001b[1;33m)\u001b[0m\u001b[1;33m\u001b[0m\u001b[1;33m\u001b[0m\u001b[0m\n\u001b[0m\u001b[0;32m     14\u001b[0m \u001b[0memaze\u001b[0m\u001b[1;33m(\u001b[0m\u001b[1;34m\"LLRDDR\"\u001b[0m\u001b[1;33m)\u001b[0m\u001b[1;33m\u001b[0m\u001b[1;33m\u001b[0m\u001b[0m\n\u001b[0;32m     15\u001b[0m \u001b[1;33m\u001b[0m\u001b[0m\n",
      "\u001b[1;31mNameError\u001b[0m: name 'x' is not defined"
     ]
    }
   ],
   "source": [
    "def emaze(s):\n",
    "    x=0\n",
    "    y=0\n",
    "    for i in s:\n",
    "        if i==\"L\":\n",
    "            x=x-1\n",
    "        elif i==\"R\":\n",
    "            x=x+1\n",
    "        elif i==\"U\":\n",
    "            y=y+1\n",
    "        else:\n",
    "            y=y-1\n",
    "print(x,y)\n",
    "emaze(\"LLRDDR\")\n",
    "    \n",
    "    "
   ]
  },
  {
   "cell_type": "code",
   "execution_count": 17,
   "metadata": {},
   "outputs": [
    {
     "name": "stdout",
     "output_type": "stream",
     "text": [
      "LLRDDR\n",
      "0 -2\n"
     ]
    }
   ],
   "source": [
    "def emaze(s):\n",
    "    x=0\n",
    "    y=0\n",
    "    for i in s:\n",
    "        if i==\"L\":\n",
    "            x=x-1\n",
    "        elif i==\"R\":\n",
    "            x=x+1\n",
    "        elif i==\"U\":\n",
    "            y=y+1\n",
    "        else:\n",
    "            y=y-1\n",
    "    print(x,y)\n",
    "def emaz():\n",
    "    s=input()\n",
    "    emaze(s)\n",
    "emaz()\n",
    "    \n"
   ]
  },
  {
   "cell_type": "code",
   "execution_count": 45,
   "metadata": {},
   "outputs": [
    {
     "name": "stdout",
     "output_type": "stream",
     "text": [
      "2\n"
     ]
    }
   ],
   "source": [
    "def anagram(s1,s2):\n",
    "    a=[]\n",
    "    b=[]\n",
    "    count=0\n",
    "    c=len(s1)\n",
    "    d=len(s2)\n",
    "    e=max(c,d)\n",
    "    for i in s1:\n",
    "        a.append(i)\n",
    "    for j in s2:\n",
    "        b.append(j)\n",
    "    for k in range(1,e):\n",
    "        if(a[k]!=b[k]):\n",
    "            count=count+1\n",
    "    print(count)\n",
    "anagram(\"ced\",\"cde\")\n",
    "    \n",
    "        \n",
    "        \n",
    "        "
   ]
  },
  {
   "cell_type": "code",
   "execution_count": 35,
   "metadata": {},
   "outputs": [
    {
     "data": {
      "text/plain": [
       "3"
      ]
     },
     "execution_count": 35,
     "metadata": {},
     "output_type": "execute_result"
    }
   ],
   "source": [
    "a=[1,2,3]\n",
    "b=[1,2]\n",
    "c=len(a)\n",
    "d=len(b)\n",
    "e=max(c,d)\n",
    "e"
   ]
  },
  {
   "cell_type": "code",
   "execution_count": null,
   "metadata": {},
   "outputs": [],
   "source": [
    "def seating:\n",
    "    "
   ]
  },
  {
   "cell_type": "code",
   "execution_count": 1,
   "metadata": {},
   "outputs": [
    {
     "name": "stdout",
     "output_type": "stream",
     "text": [
      "2\n",
      "34\n",
      "27 AS\n",
      "12\n",
      "1 WS\n"
     ]
    }
   ],
   "source": [
    "def searrangment(s) :\n",
    "    if(s%12 <= 6 and s%12 !=0 ):\n",
    "        side=s%6\n",
    "        if(side==1):\n",
    "             print(s+11, \"WS\")\n",
    "        if(side==2):\n",
    "            print(s+9, \"MS\")\n",
    "        if(side==3):\n",
    "            print(s+7, \"AS\")\n",
    "        if(side==4):\n",
    "            print(s+5, \"AS\")\n",
    "        if(side==5):\n",
    "            print(s+3, \"MS\")\n",
    "        if(side==0):\n",
    "            print(s+1, \"WS\")     \n",
    "    else:\n",
    "        side=s%6\n",
    "        if(side==1):\n",
    "             print(s-1, \"WS\")\n",
    "        if(side==2):\n",
    "            print(s-3, \"MS\")\n",
    "        if(side==3):\n",
    "            print(s-5, \"AS\")\n",
    "        if(side==4):\n",
    "            print(s-7, \"AS\")\n",
    "        if(side==5):\n",
    "            print(s-9, \"MS\")\n",
    "        if(side==0):\n",
    "            print(s-11, \"WS\") \n",
    " \n",
    " \n",
    "total=int(input());\n",
    "for i in range (0,total) :\n",
    "     s=int(input());\n",
    "     searrangment(s);"
   ]
  },
  {
   "cell_type": "code",
   "execution_count": null,
   "metadata": {},
   "outputs": [],
   "source": [
    "def profile(width,height,L):\n",
    "    if(width>=L and height>=L and width!=height):\n",
    "        print(\"CROP IT\")\n",
    "    elif(width>=L and height>=L and width==height):\n",
    "            print(\"ACCEPTED\")\n",
    "    else:\n",
    "        print(\"UPLOAD ANOTHER\")\n",
    "def pro():\n",
    "    L=int(input())\n",
    "    a=int(input())\n",
    "    for i in range(1,a+1):\n",
    "        n=input().split()\n",
    "        width=int(n[0])\n",
    "        height=int(n[1])\n",
    "        profile(width,height,L)\n",
    "\n",
    "pro()\n",
    "\n",
    "        \n",
    "        \n",
    "                    "
   ]
  },
  {
   "cell_type": "markdown",
   "metadata": {},
   "source": [
    "4#### "
   ]
  },
  {
   "cell_type": "code",
   "execution_count": null,
   "metadata": {},
   "outputs": [],
   "source": []
  },
  {
   "cell_type": "code",
   "execution_count": null,
   "metadata": {},
   "outputs": [],
   "source": []
  },
  {
   "cell_type": "code",
   "execution_count": null,
   "metadata": {},
   "outputs": [],
   "source": []
  },
  {
   "cell_type": "code",
   "execution_count": null,
   "metadata": {},
   "outputs": [],
   "source": []
  }
 ],
 "metadata": {
  "kernelspec": {
   "display_name": "Python 3",
   "language": "python",
   "name": "python3"
  },
  "language_info": {
   "codemirror_mode": {
    "name": "ipython",
    "version": 3
   },
   "file_extension": ".py",
   "mimetype": "text/x-python",
   "name": "python",
   "nbconvert_exporter": "python",
   "pygments_lexer": "ipython3",
   "version": "3.7.3"
  }
 },
 "nbformat": 4,
 "nbformat_minor": 2
}
