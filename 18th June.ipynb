{
 "cells": [
  {
   "cell_type": "code",
   "execution_count": null,
   "metadata": {},
   "outputs": [],
   "source": []
  },
  {
   "cell_type": "code",
   "execution_count": 1,
   "metadata": {},
   "outputs": [
    {
     "name": "stdout",
     "output_type": "stream",
     "text": [
      "enter stringjahnavi45\n",
      "No of digits in a string 2\n",
      "No of English letters in a string 7\n"
     ]
    }
   ],
   "source": [
    "a=input(\"enter string\")\n",
    "count=0\n",
    "count1=0\n",
    "for i in a:\n",
    "    if(i.isdigit()):\n",
    "        count=count+1\n",
    "    elif(i.isalpha()):\n",
    "        count1=count1+1\n",
    "print(\"No of digits in a string\",count)\n",
    "print(\"No of English letters in a string\",count1)\n"
   ]
  },
  {
   "cell_type": "markdown",
   "metadata": {},
   "source": [
    "## Special num\n"
   ]
  },
  {
   "cell_type": "code",
   "execution_count": 1,
   "metadata": {},
   "outputs": [
    {
     "name": "stdout",
     "output_type": "stream",
     "text": [
      "2\n",
      "2\n",
      "30\n",
      "YES\n",
      "6\n",
      "YES\n"
     ]
    }
   ],
   "source": [
    "## Function to determine if a number is special number \n",
    "def isspecialnum(n,p):\n",
    "    if numberPrimeFactors(n)>=p:\n",
    "        return True\n",
    "    return False\n",
    "    \n",
    "#Function to check if number is prime\n",
    "def isprime(n):\n",
    "    count=1\n",
    "    if(n==2):\n",
    "        return True\n",
    "    for i in range(2,n//2 +1):\n",
    "        if n%i==0:\n",
    "            count=0\n",
    "            return False\n",
    "    if count==1:\n",
    "        return True\n",
    "isprime(103)\n",
    "# Function to determine number of prime factor \n",
    "def numberPrimeFactors(n):\n",
    "    if(isprime(n)):\n",
    "        return 1\n",
    "    count1=0\n",
    "    for i in range(2,n//2 +1):\n",
    "        if(isprime(i) and n%i==0):\n",
    "            count1+=1\n",
    "    return count1\n",
    "numberPrimeFactors(30)\n",
    "def solution2():\n",
    "    p=int(input())\n",
    "    t=int(input())\n",
    "    for i in range(0,t):\n",
    "        n=int(input())\n",
    "        if isspecialnum(n,p):\n",
    "            print(\"YES\")\n",
    "        else:\n",
    "            print(\"NO\")\n",
    "        \n",
    "solution2()\n",
    "        "
   ]
  },
  {
   "cell_type": "code",
   "execution_count": 3,
   "metadata": {},
   "outputs": [
    {
     "name": "stdout",
     "output_type": "stream",
     "text": [
      "11\n"
     ]
    }
   ],
   "source": [
    "def Highestremainder(n):\n",
    "    h=0\n",
    "    for i in range(n-1,n//2,-1):\n",
    "        r=n%i\n",
    "        if r>h:\n",
    "            h=r\n",
    "    print(i)\n",
    "Highestremainder(20)\n",
    "        "
   ]
  },
  {
   "cell_type": "code",
   "execution_count": 6,
   "metadata": {},
   "outputs": [
    {
     "data": {
      "text/plain": [
       "'unaj'"
      ]
     },
     "execution_count": 6,
     "metadata": {},
     "output_type": "execute_result"
    }
   ],
   "source": [
    "s=\"janu\"\n",
    "s[::-1]\n",
    "\n",
    "\n",
    "    "
   ]
  },
  {
   "cell_type": "code",
   "execution_count": 8,
   "metadata": {},
   "outputs": [
    {
     "name": "stdout",
     "output_type": "stream",
     "text": [
      "aba\n"
     ]
    }
   ],
   "source": []
  },
  {
   "cell_type": "code",
   "execution_count": 11,
   "metadata": {},
   "outputs": [
    {
     "name": "stdout",
     "output_type": "stream",
     "text": [
      "janu\n",
      "NO\n"
     ]
    }
   ],
   "source": [
    "def palindrome(s):\n",
    "    c=s[::-1]\n",
    "    if(s==c):\n",
    "        print(\"YES\")\n",
    "    else:\n",
    "        print(\"NO\")\n",
    "def palindrom():\n",
    "    a=input()\n",
    "    palindrome(a)\n",
    "\n",
    "palindrom()"
   ]
  },
  {
   "cell_type": "code",
   "execution_count": 52,
   "metadata": {},
   "outputs": [
    {
     "name": "stdout",
     "output_type": "stream",
     "text": [
      "jaNu\n",
      "JAnU\n"
     ]
    }
   ],
   "source": [
    "def togglestring(s):\n",
    "    t=\"\"\n",
    "    for i in s:\n",
    "        if(i.isupper()):\n",
    "            t=t+i.lower()\n",
    "        else:\n",
    "            t=t+i.upper()\n",
    "    print(t)\n",
    "def togglest():\n",
    "    s=input()\n",
    "    togglestring(s)\n",
    "togglest()\n",
    "        "
   ]
  },
  {
   "cell_type": "code",
   "execution_count": 73,
   "metadata": {},
   "outputs": [
    {
     "name": "stdout",
     "output_type": "stream",
     "text": [
      "1 10 1\n",
      "10\n"
     ]
    }
   ],
   "source": [
    "def countdiv(l,u,d):\n",
    "    count=0\n",
    "    for i in range(l,u+1):\n",
    "        if(i%d==0):\n",
    "            count+=1\n",
    "    print(count)\n",
    "def countdivi():\n",
    "    s=input().split()\n",
    "    l=int(s[0])\n",
    "    u=int(s[1])\n",
    "    d=int(s[2])\n",
    "    countdiv(l,u,d)\n",
    "            \n",
    "countdivi()"
   ]
  },
  {
   "cell_type": "code",
   "execution_count": null,
   "metadata": {},
   "outputs": [],
   "source": [
    "def highest(total):\n",
    "    b=int(input())\n",
    "    for i in range(1,total+1):\n",
    "        a=int(input())\n",
    "        if(a>=b):\n",
    "            print(\"YES\")\n",
    "        else:\n",
    "            print(\"NO\")\n",
    "def high():\n",
    "    total=int(input())\n",
    "   \n",
    "    highest(total)\n",
    "high()"
   ]
  },
  {
   "cell_type": "code",
   "execution_count": 115,
   "metadata": {},
   "outputs": [
    {
     "ename": "AttributeError",
     "evalue": "'str' object has no attribute 'sort'",
     "output_type": "error",
     "traceback": [
      "\u001b[1;31m---------------------------------------------------------------------------\u001b[0m",
      "\u001b[1;31mAttributeError\u001b[0m                            Traceback (most recent call last)",
      "\u001b[1;32m<ipython-input-115-00bfef28be40>\u001b[0m in \u001b[0;36m<module>\u001b[1;34m\u001b[0m\n\u001b[0;32m      1\u001b[0m \u001b[0ms\u001b[0m\u001b[1;33m=\u001b[0m\u001b[1;34m\"janu\"\u001b[0m\u001b[1;33m\u001b[0m\u001b[1;33m\u001b[0m\u001b[0m\n\u001b[1;32m----> 2\u001b[1;33m \u001b[0ms\u001b[0m\u001b[1;33m.\u001b[0m\u001b[0msort\u001b[0m\u001b[1;33m(\u001b[0m\u001b[1;33m)\u001b[0m\u001b[1;33m\u001b[0m\u001b[1;33m\u001b[0m\u001b[0m\n\u001b[0m",
      "\u001b[1;31mAttributeError\u001b[0m: 'str' object has no attribute 'sort'"
     ]
    }
   ],
   "source": [
    "def twoString(a,b):\n",
    "    for i in a:"
   ]
  },
  {
   "cell_type": "code",
   "execution_count": 121,
   "metadata": {},
   "outputs": [
    {
     "name": "stdout",
     "output_type": "stream",
     "text": [
      "yes\n"
     ]
    }
   ],
   "source": [
    "s=\"janu\"\n",
    "a=\"ajun\"\n",
    "for i in s:\n",
    "    \n",
    "\n"
   ]
  },
  {
   "cell_type": "code",
   "execution_count": null,
   "metadata": {},
   "outputs": [],
   "source": []
  },
  {
   "cell_type": "code",
   "execution_count": null,
   "metadata": {},
   "outputs": [],
   "source": []
  },
  {
   "cell_type": "code",
   "execution_count": null,
   "metadata": {},
   "outputs": [],
   "source": []
  },
  {
   "cell_type": "code",
   "execution_count": null,
   "metadata": {},
   "outputs": [],
   "source": []
  },
  {
   "cell_type": "markdown",
   "metadata": {},
   "source": [
    "## Tuples"
   ]
  },
  {
   "cell_type": "markdown",
   "metadata": {},
   "source": [
    "Difference b/w lists and tuples\n",
    "lists are mutable - can be changed/modified\n",
    "* used to access, modify,add, \n",
    "Tuples are unmutable - cannot be changed"
   ]
  },
  {
   "cell_type": "code",
   "execution_count": 18,
   "metadata": {},
   "outputs": [
    {
     "data": {
      "text/plain": [
       "(2, 9, 7, 8)"
      ]
     },
     "execution_count": 18,
     "metadata": {},
     "output_type": "execute_result"
    }
   ],
   "source": [
    "t1=(1,2,3,6,2,9,7,8)\n",
    "t1[0]\n",
    "t1[len(t1)//2:len(t1)]"
   ]
  },
  {
   "cell_type": "markdown",
   "metadata": {},
   "source": [
    "## Dictionaries\n",
    "It works on the concept of set\n",
    "unique data\n",
    "\n",
    "keys, values\n",
    "key is the unique identifier for a value\n",
    "values is data that can be accessed with key"
   ]
  },
  {
   "cell_type": "code",
   "execution_count": 76,
   "metadata": {},
   "outputs": [
    {
     "data": {
      "text/plain": [
       "True"
      ]
     },
     "execution_count": 76,
     "metadata": {},
     "output_type": "execute_result"
    }
   ],
   "source": [
    "d1={\"k1\":\"value1\", \"k2\":\"value2\"}\n",
    "d1[\"k1\"]\n",
    "d2={1:\"janu\",2:\"hi\"}\n",
    "d2[1]\n",
    "d2.keys() #accessing by keys\n",
    "d2.values() #accessing by values\n",
    "d2.items()  # accessing by items\n",
    "d2[3]=\"oyy\" #Adding an element\n",
    "d2[3]=\"h\" #updating an element\n",
    "d1.pop(\"k2\") #removing an element\n",
    "d1\n",
    "1 in d2\n"
   ]
  },
  {
   "cell_type": "markdown",
   "metadata": {},
   "source": [
    "## contacts application\n",
    "- Add contact\n",
    "- Search for contact\n",
    "- List all contacts\n",
    "- Modify contact\n",
    "- Remove contact"
   ]
  },
  {
   "cell_type": "code",
   "execution_count": 101,
   "metadata": {},
   "outputs": [
    {
     "name": "stdout",
     "output_type": "stream",
     "text": [
      "contact janu added\n"
     ]
    }
   ],
   "source": [
    "contacts={}\n",
    "def addContact(name,phone):\n",
    "    #verify that the contact already exist \n",
    "    if name not in contacts:\n",
    "        contacts[name]=phone\n",
    "        print(\"contact %s added\" %name)\n",
    "    else:\n",
    "        print(\"Contact %s already exists\" % name)\n",
    "    return\n",
    "addContact(\"janu\",123)\n"
   ]
  },
  {
   "cell_type": "code",
   "execution_count": 88,
   "metadata": {},
   "outputs": [
    {
     "name": "stdout",
     "output_type": "stream",
     "text": [
      "janu : 123\n"
     ]
    }
   ],
   "source": [
    "def searchContacts(name):\n",
    "    if name in contacts:\n",
    "        print(name,\":\", contacts[name])\n",
    "    else:\n",
    "        print(\"%s does not exist\" %name)\n",
    "searchContacts(\"janu\")"
   ]
  },
  {
   "cell_type": "code",
   "execution_count": 100,
   "metadata": {},
   "outputs": [
    {
     "data": {
      "text/plain": [
       "('janu', '123')"
      ]
     },
     "execution_count": 100,
     "metadata": {},
     "output_type": "execute_result"
    }
   ],
   "source": [
    "def listall(contacts):\n",
    "    for name in contacts:\n",
    "        return name,contacts[name]\n",
    "listall(contacts)\n",
    "    "
   ]
  },
  {
   "cell_type": "code",
   "execution_count": 103,
   "metadata": {},
   "outputs": [
    {
     "name": "stdout",
     "output_type": "stream",
     "text": [
      "2 added successfully\n"
     ]
    }
   ],
   "source": [
    "def importContacts(newcontacts):\n",
    "    contacts.update(newcontacts)\n",
    "    print(len(newContacts.keys()), \"added successfully\")\n",
    "    return \n",
    "newContacts={\"name2\": 43, \"name3\": 34}\n",
    "\n",
    "importContacts(newContacts)"
   ]
  },
  {
   "cell_type": "code",
   "execution_count": 106,
   "metadata": {},
   "outputs": [
    {
     "name": "stdout",
     "output_type": "stream",
     "text": [
      "{'janu': 123, 'name2': 43, 'name3': 34}\n"
     ]
    }
   ],
   "source": [
    "print(contacts)\n"
   ]
  },
  {
   "cell_type": "code",
   "execution_count": null,
   "metadata": {},
   "outputs": [],
   "source": [
    "def modifyContacts(contacts):\n",
    "    for name in contacts:\n",
    "        "
   ]
  },
  {
   "cell_type": "code",
   "execution_count": 122,
   "metadata": {},
   "outputs": [
    {
     "ename": "RuntimeError",
     "evalue": "dictionary changed size during iteration",
     "output_type": "error",
     "traceback": [
      "\u001b[1;31m---------------------------------------------------------------------------\u001b[0m",
      "\u001b[1;31mRuntimeError\u001b[0m                              Traceback (most recent call last)",
      "\u001b[1;32m<ipython-input-122-61229805988c>\u001b[0m in \u001b[0;36m<module>\u001b[1;34m\u001b[0m\n\u001b[0;32m      2\u001b[0m     \u001b[1;32mfor\u001b[0m \u001b[0mname\u001b[0m \u001b[1;32min\u001b[0m \u001b[0mcontacts\u001b[0m\u001b[1;33m:\u001b[0m\u001b[1;33m\u001b[0m\u001b[1;33m\u001b[0m\u001b[0m\n\u001b[0;32m      3\u001b[0m         \u001b[0mcontacts\u001b[0m\u001b[1;33m.\u001b[0m\u001b[0mpop\u001b[0m\u001b[1;33m(\u001b[0m\u001b[0mname\u001b[0m\u001b[1;33m)\u001b[0m\u001b[1;33m\u001b[0m\u001b[1;33m\u001b[0m\u001b[0m\n\u001b[1;32m----> 4\u001b[1;33m \u001b[0mremoveContacts\u001b[0m\u001b[1;33m(\u001b[0m\u001b[0mcontacts\u001b[0m\u001b[1;33m)\u001b[0m\u001b[1;33m\u001b[0m\u001b[1;33m\u001b[0m\u001b[0m\n\u001b[0m",
      "\u001b[1;32m<ipython-input-122-61229805988c>\u001b[0m in \u001b[0;36mremoveContacts\u001b[1;34m(contacts)\u001b[0m\n\u001b[0;32m      1\u001b[0m \u001b[1;32mdef\u001b[0m \u001b[0mremoveContacts\u001b[0m\u001b[1;33m(\u001b[0m\u001b[0mcontacts\u001b[0m\u001b[1;33m)\u001b[0m\u001b[1;33m:\u001b[0m\u001b[1;33m\u001b[0m\u001b[1;33m\u001b[0m\u001b[0m\n\u001b[1;32m----> 2\u001b[1;33m     \u001b[1;32mfor\u001b[0m \u001b[0mname\u001b[0m \u001b[1;32min\u001b[0m \u001b[0mcontacts\u001b[0m\u001b[1;33m:\u001b[0m\u001b[1;33m\u001b[0m\u001b[1;33m\u001b[0m\u001b[0m\n\u001b[0m\u001b[0;32m      3\u001b[0m         \u001b[0mcontacts\u001b[0m\u001b[1;33m.\u001b[0m\u001b[0mpop\u001b[0m\u001b[1;33m(\u001b[0m\u001b[0mname\u001b[0m\u001b[1;33m)\u001b[0m\u001b[1;33m\u001b[0m\u001b[1;33m\u001b[0m\u001b[0m\n\u001b[0;32m      4\u001b[0m \u001b[0mremoveContacts\u001b[0m\u001b[1;33m(\u001b[0m\u001b[0mcontacts\u001b[0m\u001b[1;33m)\u001b[0m\u001b[1;33m\u001b[0m\u001b[1;33m\u001b[0m\u001b[0m\n",
      "\u001b[1;31mRuntimeError\u001b[0m: dictionary changed size during iteration"
     ]
    }
   ],
   "source": [
    "def removeContacts(contacts):\n",
    "    for name in contacts:\n",
    "        contacts.pop(name)\n",
    "removeContacts(contacts)"
   ]
  },
  {
   "cell_type": "markdown",
   "metadata": {},
   "source": [
    "## Packages and Modules\n",
    "package -> collection of modulues(Python File.py) and subpackages\n",
    "** Sub package** -> \n",
    "           \n",
    "Module -> Single python file containig funtions\n",
    "Package -> Subpackages -> Modules -> Functions\n"
   ]
  },
  {
   "cell_type": "code",
   "execution_count": 8,
   "metadata": {},
   "outputs": [
    {
     "data": {
      "text/plain": [
       "123"
      ]
     },
     "execution_count": 8,
     "metadata": {},
     "output_type": "execute_result"
    }
   ],
   "source": [
    "from math import floor as fl\n",
    "fl(123.34)\n"
   ]
  },
  {
   "cell_type": "code",
   "execution_count": null,
   "metadata": {},
   "outputs": [],
   "source": [
    "import random\n",
    "def generateRandomnum(n,lb,ub):\n",
    "    for i in range(0,n+1):\n",
    "        print(random.randint(lb,ub), end=\" \")\n",
    "generateRandomnum(10,1,100)\n",
    "\n",
    "        "
   ]
  },
  {
   "cell_type": "code",
   "execution_count": null,
   "metadata": {},
   "outputs": [],
   "source": [
    "from Packages import numerical as num\n",
    "num.Nprime(4)\n",
    "num.prime(17)"
   ]
  },
  {
   "cell_type": "code",
   "execution_count": null,
   "metadata": {},
   "outputs": [],
   "source": []
  },
  {
   "cell_type": "code",
   "execution_count": null,
   "metadata": {},
   "outputs": [],
   "source": []
  },
  {
   "cell_type": "code",
   "execution_count": null,
   "metadata": {},
   "outputs": [
    {
     "name": "stdout",
     "output_type": "stream",
     "text": [
      "2\n",
      "4\n",
      "6\n"
     ]
    }
   ],
   "source": [
    "def perfect1(num):\n",
    "    s=0\n",
    "    for i in range(1,num):\n",
    "        if(num%i==0):\n",
    "            s=s+i\n",
    "    if(s==num):\n",
    "        return True\n",
    "    else:\n",
    "        return False\n",
    "def perf():\n",
    "    a=int(input())\n",
    "    for j in range(1,a+1):\n",
    "        num=int(input())\n",
    "        perfect1(num)\n",
    "perf()    "
   ]
  },
  {
   "cell_type": "markdown",
   "metadata": {},
   "source": [
    "def rangeprime(lb,ub):\n",
    "    for i in range(lb,ub+1):\n",
    "        if prime(i):\n",
    "            print(i,end=\" \")\n",
    "\n",
    "rangeprime(1,500)"
   ]
  },
  {
   "cell_type": "code",
   "execution_count": null,
   "metadata": {},
   "outputs": [],
   "source": [
    "def prime(num):\n",
    "    count=0\n",
    "    for i in range(1,num+1):\n",
    "        if(num%i==0):\n",
    "            count=count+1\n",
    "    if (count==2):\n",
    "        return True\n",
    "    else:\n",
    "        return False\n",
    "def rangeprime(ub):\n",
    "    for i in range(1,ub+1):\n",
    "        if prime(i):\n",
    "            print(i,end=\" \")\n",
    "def rangpr():\n",
    "    ub=int(input())\n",
    "    rangeprime(ub)\n",
    "\n",
    "rangpr()"
   ]
  },
  {
   "cell_type": "code",
   "execution_count": null,
   "metadata": {},
   "outputs": [],
   "source": [
    "def palind(s):\n",
    "    c=s[::-1]\n",
    "    if(c==s):\n",
    "        print(\"YES\")\n",
    "    else:\n",
    "        print(\"NO\")\n",
    "def palin():\n",
    "    s=input()\n",
    "    palind(s)\n",
    "palin()"
   ]
  },
  {
   "cell_type": "code",
   "execution_count": null,
   "metadata": {},
   "outputs": [],
   "source": []
  },
  {
   "cell_type": "code",
   "execution_count": 5,
   "metadata": {},
   "outputs": [
    {
     "name": "stdout",
     "output_type": "stream",
     "text": [
      "1\n",
      "janu alfj\n",
      "['a', 'j', 'n', 'u']\n",
      "NO\n"
     ]
    }
   ],
   "source": [
    "def twostr(a,b):\n",
    "    m=[]\n",
    "    t=[]\n",
    "    for i in a:\n",
    "        m.append(i)\n",
    "    m.sort()\n",
    "    for j in b:\n",
    "        t.append(j)\n",
    "    t.sort()\n",
    "    if m==t:\n",
    "        print(\"YES\")\n",
    "    else:\n",
    "        print(\"NO\")\n",
    "def twost():\n",
    "    c=int(input())\n",
    "    for i in range(1,c+1):\n",
    "        n=input().split()\n",
    "        a=n[0]\n",
    "        b=n[1]\n",
    "        twostr(a,b)\n",
    "twost()\n",
    "        \n",
    "    "
   ]
  },
  {
   "cell_type": "code",
   "execution_count": 6,
   "metadata": {},
   "outputs": [
    {
     "name": "stdout",
     "output_type": "stream",
     "text": [
      "5 3\n",
      "1 2 3 4 5\n",
      "1 3\n",
      "2\n",
      "1 4\n",
      "2\n",
      "2 5\n",
      "3\n"
     ]
    }
   ],
   "source": [
    "# play numbers\n",
    "n=input().split()\n",
    "\n",
    "n[0],n[1]=int(n[0]),int(n[1])\n",
    "\n",
    "#read array elements\n",
    "a=input().split()\n",
    "\n",
    "sum=[] #initializing cumalative sum array\n",
    "\n",
    "# cumulative Sum\n",
    "for i in range(0,n[0]):\n",
    "    if i==0:\n",
    "        sum.append(int(a[i]))\n",
    "    else:\n",
    "        sum.append(int(sum[i-1])+int(a[i]))\n",
    "del a\n",
    "\n",
    "q=[]\n",
    "#Read each query and calculate the average\n",
    "for i in range(0,n[1]):\n",
    "    inq=input().split()\n",
    "    i=int(inq[0])\n",
    "    j=int(inq[1])\n",
    "    if i>1:\n",
    "        print((sum[j-1]-sum[i-2])//(j-i+1))\n",
    "    else:\n",
    "        print(sum[j-1]//(j-i+1))"
   ]
  },
  {
   "cell_type": "code",
   "execution_count": null,
   "metadata": {},
   "outputs": [],
   "source": [
    "# prime factors\n",
    "#Function to check if number is prime\n",
    "\n",
    "#Function to determine number of Prime factors \n",
    "\n",
    "def isSpecialNumber(p,t,n):\n",
    "    if numberOfPrimeFactors(n)>=p:\n",
    "        print(\"YES\")\n",
    "    else:\n",
    "        print(\"NO\")\n",
    "        \n",
    "def isprime(n):\n",
    "    flag=1\n",
    "    if n==2:\n",
    "        return True\n",
    "    for j in range(2,n//2+1):\n",
    "        if n%j==0:\n",
    "            flag=0\n",
    "            return False\n",
    "    if flag==1:\n",
    "        return True\n",
    "\n",
    "\n",
    "def numberOfPrimeFactors(n):\n",
    "    if isprime(n):\n",
    "        return 1\n",
    "    count=0\n",
    "    for i in range(2,n//2+1):\n",
    "        if(isprime(i) and n%i==0):\n",
    "            count+=1\n",
    "    return count\n",
    "p=int(input())\n",
    "t=int(input())\n",
    "for i in range(1,t+1):\n",
    "    n=int(input())\n",
    "    isSpecialNumber(p,t,n)"
   ]
  },
  {
   "cell_type": "code",
   "execution_count": null,
   "metadata": {},
   "outputs": [],
   "source": [
    "# Highest remainder\n",
    "def highestRemainder(n): \n",
    "    hr=0\n",
    "    for i in range(n-1,n//2,-1):\n",
    "        r=n%i\n",
    "        if r>hr:\n",
    "            hr=r\n",
    "            v=i\n",
    "    print(v)\n",
    "    return\n",
    "n=int(input())   \n",
    "highestRemainder(n)"
   ]
  },
  {
   "cell_type": "markdown",
   "metadata": {},
   "source": []
  },
  {
   "cell_type": "code",
   "execution_count": null,
   "metadata": {},
   "outputs": [],
   "source": [
    "# duration\n",
    "def duration(sh,sm,eh,em):\n",
    "    sminutes=sh*60+sm\n",
    "    eminutes=eh*60+em\n",
    "    total=eminutes-sminutes\n",
    "    fmin=total%60\n",
    "    fhour=total//60\n",
    "    print(fhour,fmin)\n",
    "    \n",
    "def dur():\n",
    "    a=int(input())\n",
    "    for i in range(1,a+1):\n",
    "        n=input().split()\n",
    "        b=int(n[0])\n",
    "        c=int(n[1])\n",
    "        d=int(n[2])\n",
    "        e=int(n[3])\n",
    "        duration(b,c)\n",
    "dur()"
   ]
  },
  {
   "cell_type": "code",
   "execution_count": null,
   "metadata": {},
   "outputs": [],
   "source": []
  },
  {
   "cell_type": "code",
   "execution_count": null,
   "metadata": {},
   "outputs": [],
   "source": []
  },
  {
   "cell_type": "code",
   "execution_count": null,
   "metadata": {},
   "outputs": [],
   "source": []
  },
  {
   "cell_type": "code",
   "execution_count": null,
   "metadata": {},
   "outputs": [],
   "source": []
  },
  {
   "cell_type": "code",
   "execution_count": null,
   "metadata": {},
   "outputs": [],
   "source": []
  },
  {
   "cell_type": "code",
   "execution_count": null,
   "metadata": {},
   "outputs": [],
   "source": []
  },
  {
   "cell_type": "code",
   "execution_count": null,
   "metadata": {},
   "outputs": [],
   "source": []
  },
  {
   "cell_type": "code",
   "execution_count": null,
   "metadata": {},
   "outputs": [],
   "source": []
  },
  {
   "cell_type": "code",
   "execution_count": null,
   "metadata": {},
   "outputs": [],
   "source": []
  }
 ],
 "metadata": {
  "kernelspec": {
   "display_name": "Python 3",
   "language": "python",
   "name": "python3"
  },
  "language_info": {
   "codemirror_mode": {
    "name": "ipython",
    "version": 3
   },
   "file_extension": ".py",
   "mimetype": "text/x-python",
   "name": "python",
   "nbconvert_exporter": "python",
   "pygments_lexer": "ipython3",
   "version": "3.7.3"
  }
 },
 "nbformat": 4,
 "nbformat_minor": 2
}
