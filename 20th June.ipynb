{
 "cells": [
  {
   "cell_type": "code",
   "execution_count": null,
   "metadata": {},
   "outputs": [],
   "source": []
  },
  {
   "cell_type": "markdown",
   "metadata": {},
   "source": [
    "## Day objectives\n",
    "### Regular Expression\n",
    "    Constructing Regular expressions for various use case\n",
    "    Regular Expressions Module and related in Python\n",
    "    Improving the contacts application with name and phone number validation using regular expressions\n",
    "### File Handling\n",
    "    Text Files\n",
    "    Upgrading the contacts application to store contact information in a text file"
   ]
  },
  {
   "cell_type": "code",
   "execution_count": 69,
   "metadata": {},
   "outputs": [
    {
     "name": "stdout",
     "output_type": "stream",
     "text": [
      "2\n",
      "Illegal ISBN\n"
     ]
    }
   ],
   "source": [
    "def isbn(num):\n",
    "    temp=num\n",
    "    sumo=0\n",
    "    count=0\n",
    "    while(temp!=0):\n",
    "        for i in range(1,11):\n",
    "            temp1=temp\n",
    "            temp=temp%10\n",
    "            sumo=sumo+temp*i\n",
    "            temp=temp1//10\n",
    "    if(len(str(num))==10 and sumo%11==0):\n",
    "        print(\"Legal ISBN\")\n",
    "    else:\n",
    "        print(\"Illegal ISBN\")\n",
    "def isbn1():\n",
    "    num=int(input())\n",
    "    isbn(num)\n",
    "isbn1()\n",
    "        "
   ]
  },
  {
   "cell_type": "code",
   "execution_count": 61,
   "metadata": {},
   "outputs": [
    {
     "name": "stdout",
     "output_type": "stream",
     "text": [
      "18\n"
     ]
    }
   ],
   "source": [
    "def isbn(num):\n",
    "    temp=num\n",
    "    sumo=0\n",
    "    while(temp!=0):\n",
    "        temp1=temp\n",
    "        temp=temp%10\n",
    "        sumo=sumo+temp\n",
    "        temp=temp1//10\n",
    "    print(sumo)\n",
    "isbn(198)"
   ]
  },
  {
   "cell_type": "code",
   "execution_count": 77,
   "metadata": {},
   "outputs": [
    {
     "data": {
      "text/plain": [
       "122"
      ]
     },
     "execution_count": 77,
     "metadata": {},
     "output_type": "execute_result"
    }
   ],
   "source": [
    "ord('z')"
   ]
  },
  {
   "cell_type": "markdown",
   "metadata": {},
   "source": [
    "### Regular Expression\n",
    "- Pattern matching\n",
    "- Symbolic Notation of a pattern \n",
    "    - Pattern : Format which repeats\n",
    "    - Pattern(RE) represents the set of all strings matches that pattern \n",
    "- [0-9] -> Any digit\n",
    "- [a-z] -> Any lower case alphabet\n",
    "- [A-Z] -> Any upper case alphabet\n",
    "- [2468] -> All single digit multiples of 2\n",
    "\n",
    "- ^[0-9]{1}$ -> only single digit numbers\n",
    "\n",
    "- ^[0-9]{3}$ -> only 3 digit numbers\n",
    "\n",
    "- [0-9]*0 $ -> all multiples of 10\n",
    "\n",
    "- ^[1-9][0-9]*[05]$ |^[5]$   -> All multiples of 5   \n",
    "\n",
    "- ^[1-9][0-9]{9}$    -> All 10 digit numbers   \n",
    "\n",
    "- ^[6-9][0-9]{9}$|^[0][6-9][0-9]{9}$|^[+][9][1][6-9][0-9]{9}    -> Validating phone numbers(India)(start with 9876 followed by 9 digits)   \n",
    "\n",
    "\n",
    "- (word) or [individual characters]  -> searching for a word\n",
    "\n",
    "- Email Validation (username@domain.extension)\n",
    "^[0-9a-z][0-9a-z_.]{4,13}[0-9a-z][@][0-9a-z]{3,18}[.][a-z]{2,4}|^[0-9a-z][0-9a-z_.]{4,13}[0-9a-z][@][0-9a-z]{3,18}[.][a-z]{2,4}[.][a-z]{2,4}$\n",
    "     -username\n",
    "         - Length of username: [6,15]\n",
    "         - No special characters other than _.\n",
    "         - Should not begin and end with _ .\n",
    "         - Character set: all digits and lower case alphabets \n",
    "         \n",
    "     - domain\n",
    "         - Length of domain: [3,18]\n",
    "         - No special characters are allowed\n",
    "         - character set: all lower case alphabets and digits\n",
    "     - Extension\n",
    "         - Length of extension: [2,4]\n",
    "         - No special characters are allowed\n",
    "         - character set: all lower case alphabets\n",
    "   \n",
    "  -  ^[a]...[z]$    -> String which should start with a and end with z contains any character in middle and length should be 5\n",
    "  \n",
    "  - ^[a].*[z]$ -> For any length \n",
    "\n",
    "         \n",
    "\n"
   ]
  },
  {
   "cell_type": "code",
   "execution_count": 38,
   "metadata": {},
   "outputs": [
    {
     "name": "stdout",
     "output_type": "stream",
     "text": [
      "8500409352\n",
      "jahnavibo78@gmail.xo\n"
     ]
    },
    {
     "data": {
      "text/plain": [
       "False"
      ]
     },
     "execution_count": 38,
     "metadata": {},
     "output_type": "execute_result"
    }
   ],
   "source": [
    "#Function to validate a phone number\n",
    "import re\n",
    "def phonenumvalidator(num):\n",
    "    pattern= '^[6-9][0-9]{9}$|^[0][6-9][0-9]{9}$|^[+][9][1][6-9][0-9]{9}$ '\n",
    "    if re.match(pattern,str(num)):\n",
    "        return True\n",
    "    return False\n",
    "num=int(input())\n",
    "phonenumvalidator(num)\n"
   ]
  },
  {
   "cell_type": "code",
   "execution_count": 53,
   "metadata": {},
   "outputs": [
    {
     "name": "stdout",
     "output_type": "stream",
     "text": [
      "contact name6 added\n"
     ]
    }
   ],
   "source": [
    "contacts={}\n",
    "def addContact(name,phone,email):\n",
    "    #verify that the contact already exist \n",
    "    if name in contacts:\n",
    "        print(\"name %s already exist\" %name)\n",
    "    else:\n",
    "        if not phonenumvalidator(phone):\n",
    "            print(\" phone num is invalid\")\n",
    "            return\n",
    "        if not emailvalidator(email):\n",
    "            print(\"Invalid email address\")\n",
    "            return\n",
    "        newcontact=[]\n",
    "        newcontact.append(phone)\n",
    "        newcontact.append(email)\n",
    "        contacts[name]= newcontact\n",
    "        print(\"contact %s added\" %name )\n",
    "    return\n",
    "       \n",
    "addContact(\"name6\",8500499189,\"jahnaviboyina78@gmail.com\")\n"
   ]
  },
  {
   "cell_type": "code",
   "execution_count": 96,
   "metadata": {},
   "outputs": [
    {
     "name": "stdout",
     "output_type": "stream",
     "text": [
      "name6\n",
      "Phone: 8500499189\n",
      "Email:  jahnaviboyina78@gmail.com\n"
     ]
    }
   ],
   "source": [
    "def searchContacts(name):\n",
    "    if name in contacts:\n",
    "        print(name)\n",
    "        print(\"Phone:\", contacts[name][0])\n",
    "        print(\"Email: \", contacts[name][1])\n",
    "    else:\n",
    "        print(\"%s does not exist\" %name)\n",
    "    return\n",
    "searchContacts(\"name6\")\n"
   ]
  },
  {
   "cell_type": "code",
   "execution_count": 94,
   "metadata": {},
   "outputs": [
    {
     "name": "stdout",
     "output_type": "stream",
     "text": [
      "name6 \n",
      " Phone: 8500499189 \n",
      " Email: jahnaviboyina78@gmail.com\n",
      "name2 \n",
      " Phone: 9723545432 \n",
      " Email: name_234@gmail.com\n"
     ]
    }
   ],
   "source": [
    "def listall():\n",
    "    for contact, info in contacts.items():\n",
    "        print(contact, \"\\n\",\"Phone:\",info[0],\"\\n\", \"Email:\",info[1])\n",
    "    return\n",
    "listall()"
   ]
  },
  {
   "cell_type": "code",
   "execution_count": 95,
   "metadata": {},
   "outputs": [
    {
     "name": "stdout",
     "output_type": "stream",
     "text": [
      "1 added successfully\n"
     ]
    }
   ],
   "source": [
    "def importContacts(newcontacts):\n",
    "    contacts.update(newcontacts)\n",
    "    print(len(newContacts.keys()), \"added successfully\")\n",
    "    return \n",
    "newContacts={\"name2\": [9723545432,'name_234@gmail.com']}\n",
    "\n",
    "importContacts(newContacts)"
   ]
  },
  {
   "cell_type": "code",
   "execution_count": null,
   "metadata": {},
   "outputs": [],
   "source": []
  },
  {
   "cell_type": "code",
   "execution_count": 98,
   "metadata": {},
   "outputs": [
    {
     "name": "stdout",
     "output_type": "stream",
     "text": [
      "jahnavi@gmail.com\n"
     ]
    },
    {
     "data": {
      "text/plain": [
       "False"
      ]
     },
     "execution_count": 98,
     "metadata": {},
     "output_type": "execute_result"
    }
   ],
   "source": [
    "import re\n",
    "def emailvalidator(email):\n",
    "    pattern='^[0-9a-z][0-9a-z_.]{4,13}[0-9a-z][@][0-9a-z]{3,18}[.][a-z]{2,4}|^[0-9a-z][0-9a-z_.]{4,13}[0-9a-z][@][0-9a-z]{3,18}[.][a-z]{2,4}[.][a-z]{2,4}$'\n",
    "    if re.match(pattern,email):\n",
    "        return True\n",
    "    return False\n",
    "email=input()\n",
    "phonenumvalidator(email)"
   ]
  },
  {
   "cell_type": "code",
   "execution_count": null,
   "metadata": {},
   "outputs": [],
   "source": [
    "# Function to edit contact information\n",
    "def editContact(name, phone,email):\n",
    "    if name in contacts:\n",
    "        \n",
    "    else:\n",
    "        if not phonenumvalidator(phone):\n",
    "            print(\" phone num is invalid\")\n",
    "            return\n",
    "        if not emailvalidator(email):\n",
    "            print(\"Invalid email address\")\n",
    "            return\n",
    "        \n",
    "        "
   ]
  },
  {
   "cell_type": "markdown",
   "metadata": {},
   "source": [
    "### File Handling in Python\n",
    "File- Document containing information residing on the permanent storage\n",
    "Types- Text, PDF, CSV, jpg, c,py etc.,\n",
    "\n",
    "File I/O\n",
    "Channelling data to to files\n",
    "Default I/O channels - Keyboard / Screen\n",
    "\n",
    "Change I/O channel to files for Reading and Writing into file\n",
    "\n",
    "Read a file - Input from file\n",
    "Write to a file - Output to a file\n",
    "\n",
    "Read/write file - open(filename,mode)\n",
    "\n"
   ]
  },
  {
   "cell_type": "code",
   "execution_count": 112,
   "metadata": {},
   "outputs": [
    {
     "name": "stdout",
     "output_type": "stream",
     "text": [
      "Line1\n",
      "Line2\n",
      "Line3\n",
      "\n",
      "Line1\n",
      "\n",
      "Line2\n",
      "\n",
      "Line3\n",
      "\n",
      "Line1\n",
      "Line2\n",
      "Line3\n",
      "\n"
     ]
    }
   ],
   "source": [
    "# Function to read a file\n",
    "def readFile(filename):\n",
    "    f=open(filename,'r')\n",
    "    filedata=f.read()\n",
    "    f.close()\n",
    "    return filedata\n",
    "filename=\"Datafiles/data.txt\"\n",
    "for line in readFile(filename).split('\\n'):\n",
    "    print(line)\n",
    "def printFileDataLines(filename):\n",
    "    with open(filename,'r') as f:\n",
    "        for line in f:\n",
    "            print(line)\n",
    "    return\n",
    "printFileDataLines(filename)\n",
    "print(readFile(filename))"
   ]
  },
  {
   "cell_type": "code",
   "execution_count": 123,
   "metadata": {},
   "outputs": [],
   "source": [
    "#Function to write data into a file\n",
    "def writeIntoFile(filename,filedata):\n",
    "    with open(filename,'w') as f:\n",
    "        f.write(filedata)\n",
    "    return\n",
    "filename=\"Datafiles/data.txt\"\n",
    "\n",
    "writeIntoFile(filename,\"newdata\\n\")"
   ]
  },
  {
   "cell_type": "code",
   "execution_count": 124,
   "metadata": {},
   "outputs": [],
   "source": [
    "#Function to append data into file\n",
    "def appendIntoFile(filename,filedata):\n",
    "    with open(filename,'a') as f:\n",
    "        f.write(filedata)\n",
    "    return\n",
    "filename=\"Datafiles/data.txt\"\n",
    "\n",
    "appendIntoFile(filename,\"newdata1\")\n"
   ]
  },
  {
   "cell_type": "code",
   "execution_count": 128,
   "metadata": {},
   "outputs": [],
   "source": [
    "#Function to append data into file\n",
    "def appendIntoFile(filename,filedata):\n",
    "    with open(filename,'a') as f:\n",
    "        for line in filedata:\n",
    "            f.write('/n'+line)\n",
    "    return\n",
    "filedata=[\"line4\", \"line5\"]\n",
    "appendIntoFile(filename,filedata)\n"
   ]
  },
  {
   "cell_type": "code",
   "execution_count": null,
   "metadata": {},
   "outputs": [],
   "source": []
  },
  {
   "cell_type": "code",
   "execution_count": null,
   "metadata": {},
   "outputs": [],
   "source": []
  },
  {
   "cell_type": "code",
   "execution_count": null,
   "metadata": {},
   "outputs": [],
   "source": []
  },
  {
   "cell_type": "code",
   "execution_count": null,
   "metadata": {},
   "outputs": [],
   "source": []
  },
  {
   "cell_type": "code",
   "execution_count": null,
   "metadata": {},
   "outputs": [],
   "source": []
  },
  {
   "cell_type": "code",
   "execution_count": null,
   "metadata": {},
   "outputs": [],
   "source": []
  }
 ],
 "metadata": {
  "kernelspec": {
   "display_name": "Python 3",
   "language": "python",
   "name": "python3"
  },
  "language_info": {
   "codemirror_mode": {
    "name": "ipython",
    "version": 3
   },
   "file_extension": ".py",
   "mimetype": "text/x-python",
   "name": "python",
   "nbconvert_exporter": "python",
   "pygments_lexer": "ipython3",
   "version": "3.7.3"
  }
 },
 "nbformat": 4,
 "nbformat_minor": 2
}
