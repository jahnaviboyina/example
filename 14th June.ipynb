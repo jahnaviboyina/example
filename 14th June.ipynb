{
 "cells": [
  {
   "cell_type": "code",
   "execution_count": null,
   "metadata": {},
   "outputs": [],
   "source": [
    "Dau 14th June\n",
    "Day Objectives\n",
    "    Python Data structures\n",
    "        Lists\n",
    "        Tuples\n",
    "        Dictionaries\n",
    "    Basic problem set on Data structures\n",
    "    Advanced problem set\n",
    "    Packages and modules"
   ]
  },
  {
   "cell_type": "markdown",
   "metadata": {},
   "source": [
    "## Python Data structures\n",
    "\n",
    "### Lists"
   ]
  },
  {
   "cell_type": "code",
   "execution_count": 7,
   "metadata": {},
   "outputs": [
    {
     "name": "stdout",
     "output_type": "stream",
     "text": [
      "['janu', 8, 'hi']\n"
     ]
    },
    {
     "data": {
      "text/plain": [
       "[5, 3, 2, 7]"
      ]
     },
     "execution_count": 7,
     "metadata": {},
     "output_type": "execute_result"
    }
   ],
   "source": [
    "li=['janu',8,'hi']\n",
    "print(li) #access the entire list\n",
    "li[0] #Access an element with index value in a list\n",
    "li[1:] #Access all elements from the index value\n",
    "li=li[::-1] #Assign all elements in a reverse order\n",
    "li=li[::-1]\n",
    "li[::2] #Accessing even index elements\n",
    "li[1::2]\n",
    "#lists can be accessed, manipulated in 2 different ways\n",
    "    # Direct referencing  - [index]\n",
    "    # Indirect referencing - through functions\n",
    "\n",
    "li.append(34)# Adding an element to end of the list\n",
    "li.insert(0,2)#Adding an element at a particlular index\n",
    "lis=[3,2,7,9,1]\n",
    "lis.sort() # sort elements in ascending order\n",
    "lis\n",
    "li.pop()#remove the last element in a list\n",
    "li.pop(1)#remove an element at a particular index\n",
    "li2=[5,3,7,2,7]\n",
    "li.extend(li2)#merge li2 into li\n",
    "li\n",
    "sum(li2)\n",
    "max(li2)\n",
    "len(li)\n",
    "sum(li2)/len(li2) #Avg of list elements\n",
    "\n",
    "li2\n",
    "new=li2[::2]\n",
    "li2\n",
    "sum(new)/len(new)  # Avg of altenate elements starting with 0 index position\n",
    "\n",
    "\n",
    "li2"
   ]
  },
  {
   "cell_type": "code",
   "execution_count": 8,
   "metadata": {},
   "outputs": [
    {
     "name": "stdout",
     "output_type": "stream",
     "text": [
      "7\n"
     ]
    }
   ],
   "source": [
    "\n",
    "# Function to identify the second largest element\n",
    "def secondlargest(li2):\n",
    "    c=max(li2)\n",
    "    temp=0\n",
    "    for i in range(0,len(li2)):\n",
    "            if(li2[i]<c):\n",
    "                if(li2[temp]>i+1):\n",
    "                    temp=i+1\n",
    "    print(li2[i])\n",
    "secondlargest(li2)"
   ]
  },
  {
   "cell_type": "code",
   "execution_count": 9,
   "metadata": {},
   "outputs": [
    {
     "data": {
      "text/plain": [
       "3"
      ]
     },
     "execution_count": 9,
     "metadata": {},
     "output_type": "execute_result"
    }
   ],
   "source": [
    "def secondlar(li2):\n",
    "    li2.sort()\n",
    "    return li2[-2]\n",
    "\n",
    "secondlar(li2)\n",
    "def genericlargest(li,n):\n",
    "    li2.sort()\n",
    "    return li2[-n]\n",
    "genericlargest(li2,3)"
   ]
  },
  {
   "cell_type": "code",
   "execution_count": 42,
   "metadata": {},
   "outputs": [
    {
     "data": {
      "text/plain": [
       "3"
      ]
     },
     "execution_count": 42,
     "metadata": {},
     "output_type": "execute_result"
    }
   ],
   "source": [
    "#Function to search for data in a list\n",
    "def linearsearch(li2,key):\n",
    "    for i in range(0,len(li2)):\n",
    "        if(key==li2[i]):\n",
    "            return i\n",
    "    return -1\n",
    "def linearsearch2(li,key):\n",
    "    for i in li2:\n",
    "        if i==key:\n",
    "            return li.index(i)\n",
    "    return -1\n",
    "def linearsearch3(li,key):\n",
    "    if key in li:\n",
    "        return li.index(key)\n",
    "    else:\n",
    "        return -1\n",
    "linearsearch3(li2,7)"
   ]
  },
  {
   "cell_type": "code",
   "execution_count": 49,
   "metadata": {},
   "outputs": [
    {
     "data": {
      "text/plain": [
       "1"
      ]
     },
     "execution_count": 49,
     "metadata": {},
     "output_type": "execute_result"
    }
   ],
   "source": [
    "# Function to count the occurances of a character in a string\n",
    "# 'python programming\", m-> 2\n",
    "def countcharoccur(s,c):\n",
    "    count=0\n",
    "    for ch in s:\n",
    "        if ch==c:\n",
    "            count+=1\n",
    "    return count\n",
    "def countcharoccur2(s,c):\n",
    "    return s.count(c)\n",
    "\n",
    "countcharoccur2(\"janu\",\"a\")\n",
    "        \n",
    "        \n",
    "        \n",
    "        "
   ]
  },
  {
   "cell_type": "code",
   "execution_count": null,
   "metadata": {},
   "outputs": [],
   "source": [
    "def search()"
   ]
  },
  {
   "cell_type": "code",
   "execution_count": null,
   "metadata": {},
   "outputs": [],
   "source": []
  },
  {
   "cell_type": "code",
   "execution_count": null,
   "metadata": {},
   "outputs": [],
   "source": []
  },
  {
   "cell_type": "code",
   "execution_count": null,
   "metadata": {},
   "outputs": [],
   "source": []
  },
  {
   "cell_type": "code",
   "execution_count": null,
   "metadata": {},
   "outputs": [],
   "source": []
  },
  {
   "cell_type": "code",
   "execution_count": null,
   "metadata": {},
   "outputs": [],
   "source": []
  },
  {
   "cell_type": "code",
   "execution_count": null,
   "metadata": {},
   "outputs": [],
   "source": []
  },
  {
   "cell_type": "code",
   "execution_count": null,
   "metadata": {},
   "outputs": [],
   "source": []
  },
  {
   "cell_type": "code",
   "execution_count": null,
   "metadata": {},
   "outputs": [],
   "source": []
  },
  {
   "cell_type": "code",
   "execution_count": null,
   "metadata": {},
   "outputs": [],
   "source": []
  }
 ],
 "metadata": {
  "kernelspec": {
   "display_name": "Python 3",
   "language": "python",
   "name": "python3"
  }
 },
 "nbformat": 4,
 "nbformat_minor": 2
}
