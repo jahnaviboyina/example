{
 "cells": [
  {
   "cell_type": "code",
   "execution_count": 5,
   "metadata": {},
   "outputs": [
    {
     "name": "stdout",
     "output_type": "stream",
     "text": [
      "ana\n",
      "16\n"
     ]
    }
   ],
   "source": [
    "def chasum(s):\n",
    "    summ=0\n",
    "    for i in s:\n",
    "        summ+=ord(i)-96\n",
    "    print(summ)\n",
    "def charsum():\n",
    "    s=input()\n",
    "    chasum(s)\n",
    "charsum()"
   ]
  },
  {
   "cell_type": "code",
   "execution_count": 137,
   "metadata": {},
   "outputs": [
    {
     "name": "stdout",
     "output_type": "stream",
     "text": [
      "name1 added to contacts\n"
     ]
    }
   ],
   "source": [
    "# Function to add contact to contacts text file\n",
    "from Packages.validators import phonenumvalidator as pnv, emailvalidator as ev\n",
    "#from Packages.validators import emailValidator as ev\n",
    "\n",
    "\n",
    "def addContact(name, phone, email):\n",
    "    # store data as name,phone,email in the contacts file    \n",
    "    filename = 'Datafiles/contacts.txt'\n",
    "    if not checkContactExists(name):\n",
    "        if pnv(phone) and ev(email):\n",
    "            with open(filename, 'a') as f:\n",
    "                line = name + ',' + str(phone) + ',' + email + '\\n'\n",
    "                f.write(line)\n",
    "            print(name, 'added to contacts')\n",
    "        else:\n",
    "            print('Invalid Phone number or Email')\n",
    "            return\n",
    "    else:\n",
    "        print(name, 'already exists')\n",
    "    return\n",
    "\n",
    "import re\n",
    "# Function to check if contact already exists\n",
    "def checkContactExists(name):\n",
    "    filename = 'Datafiles/contacts.txt'\n",
    "    with open(filename, 'r') as f:\n",
    "        filedata = f.read()\n",
    "        pattern = name+','\n",
    "    return re.search(pattern, filedata)\n",
    "\n",
    "addContact('name1', 8300409352, 'bijm_34@gmail.com')\n",
    "   \n"
   ]
  },
  {
   "cell_type": "code",
   "execution_count": 29,
   "metadata": {},
   "outputs": [
    {
     "data": {
      "text/plain": [
       "'name1,8500409352,name1_23@gmail.com\\nname2,8765432109,name2_34@gmail.com\\nname3,8768432109,name12_34@gmail.com\\n'"
      ]
     },
     "execution_count": 29,
     "metadata": {},
     "output_type": "execute_result"
    }
   ],
   "source": [
    "filename = 'Datafiles/contacts.txt'\n",
    "def csvToList(filename):\n",
    "    li = []\n",
    "    with open(filename, 'r') as f:\n",
    "        for line in f:\n",
    "            li.append(line.split(','))\n",
    "    return li\n",
    "\n",
    "def listToFile(li):\n",
    "    s = ''\n",
    "    for i in li:\n",
    "        s += ','.join(i)\n",
    "    return s\n",
    "    \n",
    "li = csvToList(filename)\n",
    "listToFile(li)"
   ]
  },
  {
   "cell_type": "code",
   "execution_count": 134,
   "metadata": {},
   "outputs": [
    {
     "name": "stdout",
     "output_type": "stream",
     "text": [
      "phone 8500409352 email aijm_34@gmail.com\n",
      "\n",
      "contact exist\n"
     ]
    }
   ],
   "source": [
    "#function to search contacts using files\n",
    "filename='Datafiles/contacts.txt'\n",
    "def searchcont(name):\n",
    "    li=[]\n",
    "    c=0\n",
    "    with open(filename,'r') as f:\n",
    "        for line in f:\n",
    "            li.append(line.split(','))\n",
    "    for i in range(0,len(li)):\n",
    "        if(li[i][0]==name):\n",
    "            c=1\n",
    "            print(\"phone\",li[i][1],\"email\",li[i][2])\n",
    "    if(c==1):\n",
    "        print(\"contact exist\")\n",
    "    else:\n",
    "        print(\"contact not exist\")\n",
    "searchcont(\"name2\")\n"
   ]
  },
  {
   "cell_type": "code",
   "execution_count": 153,
   "metadata": {},
   "outputs": [
    {
     "name": "stdout",
     "output_type": "stream",
     "text": [
      "[['name3', '8330409352', 'frsfjm_34@gmail.com\\n']]\n"
     ]
    }
   ],
   "source": [
    "#function to delete contacts using files\n",
    "filename='Datafiles/contacts.txt'\n",
    "def delcont(name):\n",
    "    li=[]\n",
    "    c=0\n",
    "    with open(filename,'r') as f:\n",
    "        for line in f:\n",
    "            li.append(line.split(','))\n",
    "    for i in range(0,len(li)):\n",
    "        if(li[i][0]==name):\n",
    "            li.pop(i)\n",
    "            break\n",
    "    print(li)\n",
    "    with open(filename,'w') as f:\n",
    "        for lines in li:\n",
    "            rline=','.join(lines)\n",
    "            f.writelines(rline)\n",
    "        \n",
    "delcont(\"name2\")\n",
    "        "
   ]
  },
  {
   "cell_type": "code",
   "execution_count": 3,
   "metadata": {},
   "outputs": [],
   "source": [
    "#function to modify contacts using files\n",
    "\n",
    "from Packages.validators import phonenumvalidator as pnv, emailvalidator as ev\n",
    "\n",
    "def modifyContacts(name,phone,email):\n",
    "    filename='Datafiles/contacts.txt'\n",
    "    c=0\n",
    "    li=[]\n",
    "    with open(filename,'r') as f:\n",
    "        for line in f:\n",
    "            li.append(line.split(','))\n",
    "    for i in range(0,len(li)):\n",
    "        if li[i][0]==name:\n",
    "            li[i][1]=phone\n",
    "            li[i][2]=email\n",
    "                #print(li)\n",
    "            if pnv(phone) and ev(email):\n",
    "                with open('Datafiles/contacts.txt', 'w') as f1:\n",
    "                    for line in li:\n",
    "                        rline=','.join(line)\n",
    "                        f1.writelines('\\n'+rline)\n",
    "                        c=1\n",
    "            else:\n",
    "                print(\"Invalid Phone number or Email \")\n",
    "        \n",
    "modifyContacts(\"name1\",'9876943910','asdghj@asdf.bm')\n"
   ]
  },
  {
   "cell_type": "code",
   "execution_count": null,
   "metadata": {},
   "outputs": [],
   "source": []
  },
  {
   "cell_type": "code",
   "execution_count": null,
   "metadata": {},
   "outputs": [],
   "source": [
    "\n",
    "    "
   ]
  },
  {
   "cell_type": "code",
   "execution_count": null,
   "metadata": {},
   "outputs": [],
   "source": []
  }
 ],
 "metadata": {
  "kernelspec": {
   "display_name": "Python 3",
   "language": "python",
   "name": "python3"
  },
  "language_info": {
   "codemirror_mode": {
    "name": "ipython",
    "version": 3
   },
   "file_extension": ".py",
   "mimetype": "text/x-python",
   "name": "python",
   "nbconvert_exporter": "python",
   "pygments_lexer": "ipython3",
   "version": "3.7.3"
  }
 },
 "nbformat": 4,
 "nbformat_minor": 2
}
