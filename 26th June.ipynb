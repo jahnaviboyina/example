{
 "cells": [
  {
   "cell_type": "code",
   "execution_count": 8,
   "metadata": {},
   "outputs": [
    {
     "data": {
      "text/plain": [
       "2"
      ]
     },
     "execution_count": 8,
     "metadata": {},
     "output_type": "execute_result"
    }
   ],
   "source": [
    "def maxfrekeys(li):\n",
    "    unique={}\n",
    "    for i in li:\n",
    "        if i not in unique:\n",
    "            unique[i]=1\n",
    "        else:\n",
    "            unique[i]+=1\n",
    "    maxfre=max(unique.values())\n",
    "    maxfreqkeys=[]\n",
    "    for item in unique.items():\n",
    "        if(item[1]==maxfre):\n",
    "            maxfreqkeys.append(item[0])\n",
    "    return min(maxfreqkeys)\n",
    "maxfrekeys([1,2,3,1,2,2])"
   ]
  },
  {
   "cell_type": "code",
   "execution_count": 10,
   "metadata": {},
   "outputs": [
    {
     "data": {
      "text/plain": [
       "3"
      ]
     },
     "execution_count": 10,
     "metadata": {},
     "output_type": "execute_result"
    }
   ],
   "source": [
    "def mfk(li):\n",
    "    unique={}\n",
    "    for i in li:\n",
    "        if i in unique:\n",
    "            unique[i]+=1\n",
    "        else:\n",
    "            unique[i]=1\n",
    "    ma=max(unique.values())\n",
    "    maxfr=[]\n",
    "    for item in unique.items():\n",
    "        if item[1]==ma:\n",
    "            maxfr.append(item[0])\n",
    "    return min(maxfr)\n",
    "mfk([1,2,3,3])\n",
    "    "
   ]
  },
  {
   "cell_type": "code",
   "execution_count": 14,
   "metadata": {},
   "outputs": [
    {
     "data": {
      "text/plain": [
       "7"
      ]
     },
     "execution_count": 14,
     "metadata": {},
     "output_type": "execute_result"
    }
   ],
   "source": [
    "#kthlargest element\n",
    "def kthlar(li,k):\n",
    "    unique=[]\n",
    "    for i in li:\n",
    "        if i not in unique:\n",
    "            unique.append(i)\n",
    "    unique=sorted(unique,reverse=True)\n",
    "    if(len(unique)>k):\n",
    "        return unique[k-1]\n",
    "    else:\n",
    "        return -1\n",
    "kthlar([7,4,9,12,3],3)"
   ]
  },
  {
   "cell_type": "code",
   "execution_count": 34,
   "metadata": {},
   "outputs": [
    {
     "data": {
      "text/plain": [
       "2"
      ]
     },
     "execution_count": 34,
     "metadata": {},
     "output_type": "execute_result"
    }
   ],
   "source": [
    "#maximum frequency key\n",
    "def maxfrekeys(li):\n",
    "    unique={}\n",
    "    for i in li:\n",
    "        if i not in unique:\n",
    "            unique[i]=1\n",
    "        else:\n",
    "            unique[i]+=1\n",
    "    maxfre=max(unique.values())\n",
    "    maxfreqkeys=[]\n",
    "    for item in unique.items():\n",
    "        if(item[1]==maxfre):\n",
    "            maxfreqkeys.append(item[0])\n",
    "    return min(maxfreqkeys)\n",
    "maxfrekeys([1,2,3,1,2,2])"
   ]
  },
  {
   "cell_type": "code",
   "execution_count": 11,
   "metadata": {},
   "outputs": [
    {
     "name": "stdout",
     "output_type": "stream",
     "text": [
      "6 6 6 5 5 1 6 1 1\n",
      "1\n"
     ]
    }
   ],
   "source": [
    "#second largest frequency element\n",
    "def secondlarfre(li):\n",
    "    unique={}\n",
    "    for i in li:\n",
    "        if i not in unique:\n",
    "            unique[i]=1\n",
    "        else:\n",
    "            unique[i]+=1\n",
    "    sor=sorted(unique.values(),reverse=True)\n",
    "    if(len(sor)>1):\n",
    "        seclarfr=(sor[1])\n",
    "    else:\n",
    "        return -1\n",
    "    maxfr=[]\n",
    "    for item in unique.items():\n",
    "        if item[1]==seclarfr:\n",
    "            maxfr.append(item[0])\n",
    "    print(min(maxfr))\n",
    "def secondlarfre2():\n",
    "    n=input()\n",
    "    li=n.split(' ')\n",
    "    secondlarfre(li)\n",
    "secondlarfre2()"
   ]
  },
  {
   "cell_type": "code",
   "execution_count": null,
   "metadata": {},
   "outputs": [],
   "source": []
  },
  {
   "cell_type": "code",
   "execution_count": 23,
   "metadata": {},
   "outputs": [
    {
     "name": "stdout",
     "output_type": "stream",
     "text": [
      "1 2 2 3 3 3 4 4 4 4\n",
      "1\n",
      "4\n"
     ]
    }
   ],
   "source": [
    "#kth largest frequency element\n",
    "def kthlarfreq(li,k):\n",
    "    unique={}\n",
    "    for i in li:\n",
    "        if i not in unique:\n",
    "            unique[i]=1\n",
    "        else:\n",
    "            unique[i]+=1\n",
    "    sor=sorted(unique.values(),reverse=True)\n",
    "    if(len(sor)>=k):\n",
    "        kthlarfr=sor[k-1]\n",
    "    else:\n",
    "        return -1\n",
    "    kthfre=[]\n",
    "    for item in unique.items():\n",
    "        if(item[1]==kthlarfr):\n",
    "            kthfre.append(item[0])\n",
    "    print(min(kthfre))\n",
    "def kthlarfreq2():\n",
    "    n=input()\n",
    "    li=n.split(' ')\n",
    "    k=int(input())\n",
    "    kthlarfreq(li,k)\n",
    "kthlarfreq2()"
   ]
  },
  {
   "cell_type": "code",
   "execution_count": 28,
   "metadata": {},
   "outputs": [
    {
     "name": "stdout",
     "output_type": "stream",
     "text": [
      "1 2 1 3 4 4 4 4 3 3\n",
      "4\n",
      "4\n"
     ]
    }
   ],
   "source": [
    "#kth lowest frequency element\n",
    "def kthlowfreq(li,k):\n",
    "    unique={}\n",
    "    for i in li:\n",
    "        if i not in unique:\n",
    "            unique[i]=1\n",
    "        else:\n",
    "            unique[i]+=1\n",
    "    sor=sorted(unique.values())\n",
    "    if(len(sor)>=k):\n",
    "        kthlarfr=sor[k-1]\n",
    "    else:\n",
    "        return -1\n",
    "    kthfre=[]\n",
    "    for item in unique.items():\n",
    "        if(item[1]==kthlarfr):\n",
    "            kthfre.append(item[0])\n",
    "    print(min(kthfre))\n",
    "def kthlowfreq2():\n",
    "    n=input()\n",
    "    li=n.split(' ')\n",
    "    k=int(input())\n",
    "    kthlowfreq(li,k)\n",
    "kthlowfreq2()"
   ]
  },
  {
   "cell_type": "code",
   "execution_count": 30,
   "metadata": {},
   "outputs": [
    {
     "data": {
      "text/plain": [
       "[[1, 9, 8, 7, 6, 2], [1, 9, 8, 7, 6, 2, 5, 3, 4]]"
      ]
     },
     "execution_count": 30,
     "metadata": {},
     "output_type": "execute_result"
    }
   ],
   "source": []
  },
  {
   "cell_type": "code",
   "execution_count": null,
   "metadata": {},
   "outputs": [],
   "source": []
  },
  {
   "cell_type": "code",
   "execution_count": null,
   "metadata": {},
   "outputs": [],
   "source": []
  }
 ],
 "metadata": {
  "kernelspec": {
   "display_name": "Python 3",
   "language": "python",
   "name": "python3"
  },
  "language_info": {
   "codemirror_mode": {
    "name": "ipython",
    "version": 3
   },
   "file_extension": ".py",
   "mimetype": "text/x-python",
   "name": "python",
   "nbconvert_exporter": "python",
   "pygments_lexer": "ipython3",
   "version": "3.7.3"
  }
 },
 "nbformat": 4,
 "nbformat_minor": 2
}
