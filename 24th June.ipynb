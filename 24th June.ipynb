{
 "cells": [
  {
   "cell_type": "code",
   "execution_count": 2,
   "metadata": {},
   "outputs": [
    {
     "name": "stdout",
     "output_type": "stream",
     "text": [
      "3\n",
      "1 2 1\n",
      "2 1 3\n",
      "2 1 3\n",
      "arr ['1', '1', '3']\n"
     ]
    },
    {
     "ename": "TypeError",
     "evalue": "%d format: a number is required, not str",
     "output_type": "error",
     "traceback": [
      "\u001b[1;31m---------------------------------------------------------------------------\u001b[0m",
      "\u001b[1;31mTypeError\u001b[0m                                 Traceback (most recent call last)",
      "\u001b[1;32m<ipython-input-2-73c733306bfd>\u001b[0m in \u001b[0;36m<module>\u001b[1;34m\u001b[0m\n\u001b[0;32m     17\u001b[0m     \u001b[0mprint\u001b[0m\u001b[1;33m(\u001b[0m\u001b[1;34m\"arr\"\u001b[0m\u001b[1;33m,\u001b[0m\u001b[0marr\u001b[0m\u001b[1;33m)\u001b[0m\u001b[1;33m\u001b[0m\u001b[1;33m\u001b[0m\u001b[0m\n\u001b[0;32m     18\u001b[0m     \u001b[0mfrelistdic\u001b[0m\u001b[1;33m(\u001b[0m\u001b[0marr\u001b[0m\u001b[1;33m)\u001b[0m\u001b[1;33m\u001b[0m\u001b[1;33m\u001b[0m\u001b[0m\n\u001b[1;32m---> 19\u001b[1;33m \u001b[0mfreli\u001b[0m\u001b[1;33m(\u001b[0m\u001b[1;33m)\u001b[0m\u001b[1;33m\u001b[0m\u001b[1;33m\u001b[0m\u001b[0m\n\u001b[0m\u001b[0;32m     20\u001b[0m \u001b[1;33m\u001b[0m\u001b[0m\n",
      "\u001b[1;32m<ipython-input-2-73c733306bfd>\u001b[0m in \u001b[0;36mfreli\u001b[1;34m()\u001b[0m\n\u001b[0;32m     16\u001b[0m         \u001b[0marr\u001b[0m\u001b[1;33m.\u001b[0m\u001b[0mappend\u001b[0m\u001b[1;33m(\u001b[0m\u001b[0mn\u001b[0m\u001b[1;33m[\u001b[0m\u001b[0mi\u001b[0m\u001b[1;33m]\u001b[0m\u001b[1;33m)\u001b[0m\u001b[1;33m\u001b[0m\u001b[1;33m\u001b[0m\u001b[0m\n\u001b[0;32m     17\u001b[0m     \u001b[0mprint\u001b[0m\u001b[1;33m(\u001b[0m\u001b[1;34m\"arr\"\u001b[0m\u001b[1;33m,\u001b[0m\u001b[0marr\u001b[0m\u001b[1;33m)\u001b[0m\u001b[1;33m\u001b[0m\u001b[1;33m\u001b[0m\u001b[0m\n\u001b[1;32m---> 18\u001b[1;33m     \u001b[0mfrelistdic\u001b[0m\u001b[1;33m(\u001b[0m\u001b[0marr\u001b[0m\u001b[1;33m)\u001b[0m\u001b[1;33m\u001b[0m\u001b[1;33m\u001b[0m\u001b[0m\n\u001b[0m\u001b[0;32m     19\u001b[0m \u001b[0mfreli\u001b[0m\u001b[1;33m(\u001b[0m\u001b[1;33m)\u001b[0m\u001b[1;33m\u001b[0m\u001b[1;33m\u001b[0m\u001b[0m\n\u001b[0;32m     20\u001b[0m \u001b[1;33m\u001b[0m\u001b[0m\n",
      "\u001b[1;32m<ipython-input-2-73c733306bfd>\u001b[0m in \u001b[0;36mfrelistdic\u001b[1;34m(arr)\u001b[0m\n\u001b[0;32m      8\u001b[0m             \u001b[0mf\u001b[0m\u001b[1;33m[\u001b[0m\u001b[0mi\u001b[0m\u001b[1;33m]\u001b[0m\u001b[1;33m=\u001b[0m\u001b[1;36m1\u001b[0m\u001b[1;33m\u001b[0m\u001b[1;33m\u001b[0m\u001b[0m\n\u001b[0;32m      9\u001b[0m     \u001b[1;32mfor\u001b[0m \u001b[0mk\u001b[0m\u001b[1;33m,\u001b[0m\u001b[0mv\u001b[0m \u001b[1;32min\u001b[0m \u001b[0mf\u001b[0m\u001b[1;33m.\u001b[0m\u001b[0mitems\u001b[0m\u001b[1;33m(\u001b[0m\u001b[1;33m)\u001b[0m\u001b[1;33m:\u001b[0m\u001b[1;33m\u001b[0m\u001b[1;33m\u001b[0m\u001b[0m\n\u001b[1;32m---> 10\u001b[1;33m         \u001b[0mprint\u001b[0m\u001b[1;33m(\u001b[0m\u001b[1;34m\"%d:%d\"\u001b[0m\u001b[1;33m%\u001b[0m\u001b[1;33m(\u001b[0m\u001b[0mk\u001b[0m\u001b[1;33m,\u001b[0m\u001b[0mv\u001b[0m\u001b[1;33m)\u001b[0m\u001b[1;33m)\u001b[0m\u001b[1;33m\u001b[0m\u001b[1;33m\u001b[0m\u001b[0m\n\u001b[0m\u001b[0;32m     11\u001b[0m \u001b[1;32mdef\u001b[0m \u001b[0mfreli\u001b[0m\u001b[1;33m(\u001b[0m\u001b[1;33m)\u001b[0m\u001b[1;33m:\u001b[0m\u001b[1;33m\u001b[0m\u001b[1;33m\u001b[0m\u001b[0m\n\u001b[0;32m     12\u001b[0m     \u001b[0marr\u001b[0m\u001b[1;33m=\u001b[0m\u001b[0mlist\u001b[0m\u001b[1;33m(\u001b[0m\u001b[1;33m)\u001b[0m\u001b[1;33m\u001b[0m\u001b[1;33m\u001b[0m\u001b[0m\n",
      "\u001b[1;31mTypeError\u001b[0m: %d format: a number is required, not str"
     ]
    }
   ],
   "source": [
    "#finding frequency of elements in a list)\n",
    "def frelistdic(arr):\n",
    "    f={}\n",
    "    for i in arr:\n",
    "        if i in f:\n",
    "            f[i]+=1\n",
    "        else:\n",
    "            f[i]=1\n",
    "    for k,v in f.items():\n",
    "        print(\"%d:%d\"%(k,v))\n",
    "def freli():\n",
    "    arr=list()\n",
    "    a=int(input())\n",
    "    for i in range(int(a)):\n",
    "        n=input().split()\n",
    "        for j in n\n",
    "        arr.append(n[i])\n",
    "    print(\"arr\",arr)\n",
    "    frelistdic(arr)\n",
    "freli()\n",
    "        "
   ]
  },
  {
   "cell_type": "markdown",
   "metadata": {},
   "source": [
    "## Contact application\n",
    "    # add,search,list,del and modify\n",
    "## Find and Replace application\n",
    "    # count the total number of occurances\n",
    "    # If word is existing\n",
    "    # Replace all occurances of a word wit\n",
    "## Marks text fie\n",
    "    # Generates a report with the following info\n",
    "        # class average\n",
    "        # % of students passed\n",
    "        # % of students failed\n",
    "        # % of students with distinction\n",
    "        # Highest mark\n",
    "        # Lowest mark"
   ]
  },
  {
   "cell_type": "code",
   "execution_count": 17,
   "metadata": {},
   "outputs": [
    {
     "name": "stdout",
     "output_type": "stream",
     "text": [
      "10\n",
      "1\n",
      "100\n"
     ]
    }
   ],
   "source": [
    "#finding avg,passed,failed,highest and lowest mark data\n",
    "from random import randint\n",
    "def generateMarks(n,lb,ub):\n",
    "    with open('Datafiles/marks.txt','w') as f:\n",
    "        for i in range(0,n):\n",
    "            r=randint(lb,ub)\n",
    "            f.write(str(r)+'\\n')\n",
    "    return\n",
    "\n",
    "def genermar():\n",
    "    noofstudents=int(input())\n",
    "    lb=int(input())\n",
    "    ub=int(input())\n",
    "    generateMarks(noofstudents,lb,ub)\n",
    "genermar()\n",
    "\n",
    "            "
   ]
  },
  {
   "cell_type": "code",
   "execution_count": 36,
   "metadata": {},
   "outputs": [
    {
     "name": "stdout",
     "output_type": "stream",
     "text": [
      "avg= 45.7\n"
     ]
    }
   ],
   "source": [
    "def avg():\n",
    "    summ=0\n",
    "    c=0\n",
    "    with open('Datafiles/marks.txt','r')as f:\n",
    "        for lines in f.readlines():\n",
    "            c+=1\n",
    "            summ=summ+int(lines)\n",
    "        print(\"avg=\",summ/c)     \n",
    "avg()"
   ]
  },
  {
   "cell_type": "code",
   "execution_count": 4,
   "metadata": {},
   "outputs": [
    {
     "name": "stdout",
     "output_type": "stream",
     "text": [
      "pass percentage 60\n"
     ]
    }
   ],
   "source": [
    "def passed():\n",
    "    passed=0\n",
    "    c=0\n",
    "    with open('Datafiles/marks.txt','r')as f:\n",
    "        for lines in f.readlines():\n",
    "            c+=1\n",
    "            if int(lines)>=35:\n",
    "                passed+=1\n",
    "        print(\"pass percentage\",(passed*100)//c)\n",
    "passed()"
   ]
  },
  {
   "cell_type": "code",
   "execution_count": 5,
   "metadata": {},
   "outputs": [
    {
     "name": "stdout",
     "output_type": "stream",
     "text": [
      "fail percentage 40\n"
     ]
    }
   ],
   "source": [
    "def failed():\n",
    "    failed=0\n",
    "    c=0\n",
    "    with open('Datafiles/marks.txt','r')as f:\n",
    "        for lines in f.readlines():\n",
    "            c+=1\n",
    "            if(int(lines)<35):\n",
    "                failed+=1\n",
    "        print(\"fail percentage\",(failed*100)//c)\n",
    "failed()"
   ]
  },
  {
   "cell_type": "code",
   "execution_count": 29,
   "metadata": {},
   "outputs": [
    {
     "name": "stdout",
     "output_type": "stream",
     "text": [
      "Distinction percentage 40\n"
     ]
    }
   ],
   "source": [
    "def distinction():\n",
    "    distinction=0\n",
    "    c=0\n",
    "    with open('Datafiles/marks.txt','r')as f:\n",
    "        for lines in f.readlines():\n",
    "            c+=1\n",
    "            if(int(lines)>=75):\n",
    "                distinction+=1  \n",
    "        print(\"Distinction percentage\",(distinction*100)//c)\n",
    "distinction()"
   ]
  },
  {
   "cell_type": "code",
   "execution_count": 34,
   "metadata": {},
   "outputs": [
    {
     "name": "stdout",
     "output_type": "stream",
     "text": [
      "Highest marks 0 93\n"
     ]
    }
   ],
   "source": [
    "def Highest():\n",
    "    high=0\n",
    "    with open('Datafiles/marks.txt','r')as f:\n",
    "        m=0\n",
    "        for lines in f.readlines():\n",
    "            if(int(lines)>high):\n",
    "                high=int(lines)\n",
    "            temp=high\n",
    "        for i in f.readlines():\n",
    "            if(temp==int(lines)):\n",
    "                m+=1\n",
    "        print(\"Highest marks\",m,temp)\n",
    "        \n",
    "Highest()"
   ]
  },
  {
   "cell_type": "code",
   "execution_count": 23,
   "metadata": {},
   "outputs": [
    {
     "name": "stdout",
     "output_type": "stream",
     "text": [
      "Lowest mark 5 0\n"
     ]
    }
   ],
   "source": [
    "def Lowest():\n",
    "    low=10000\n",
    "    with open('Datafiles/marks.txt','r')as f:\n",
    "        l=0\n",
    "        for lines in f.readlines():\n",
    "            if(int(lines)<low):\n",
    "                low=int(lines)\n",
    "        if(low==int(lines)):\n",
    "            l+=1\n",
    "        print(\"Lowest mark\",low,l)\n",
    "Lowest()"
   ]
  },
  {
   "cell_type": "code",
   "execution_count": 65,
   "metadata": {},
   "outputs": [
    {
     "name": "stdout",
     "output_type": "stream",
     "text": [
      "15361ghsgd\n",
      "0 2 0 1 0 1 1 0 0 0 "
     ]
    }
   ],
   "source": [
    "def fre(s):\n",
    "    alls=[]\n",
    "    numb=[]\n",
    "    uni=[]\n",
    "    for i in s:\n",
    "        alls.append(i)\n",
    "    for j in range(0,10):\n",
    "        numb.append(j)\n",
    "    for i in numb:\n",
    "        f=alls.count(str(i))\n",
    "        print(f,end=\" \")\n",
    "def freq():\n",
    "    s=input()\n",
    "    fre(s)\n",
    "freq()"
   ]
  },
  {
   "cell_type": "code",
   "execution_count": null,
   "metadata": {},
   "outputs": [],
   "source": []
  },
  {
   "cell_type": "code",
   "execution_count": 37,
   "metadata": {},
   "outputs": [
    {
     "name": "stdout",
     "output_type": "stream",
     "text": [
      "10\n",
      "1\n",
      "100\n",
      "Marks analysis Report\n",
      "avg= 55.1\n"
     ]
    },
    {
     "ename": "NameError",
     "evalue": "name 'passed' is not defined",
     "output_type": "error",
     "traceback": [
      "\u001b[1;31m---------------------------------------------------------------------------\u001b[0m",
      "\u001b[1;31mNameError\u001b[0m                                 Traceback (most recent call last)",
      "\u001b[1;32m<ipython-input-37-105a9ff29b0b>\u001b[0m in \u001b[0;36m<module>\u001b[1;34m\u001b[0m\n\u001b[0;32m      8\u001b[0m     \u001b[0mHighest\u001b[0m\u001b[1;33m(\u001b[0m\u001b[1;33m)\u001b[0m\u001b[1;33m\u001b[0m\u001b[1;33m\u001b[0m\u001b[0m\n\u001b[0;32m      9\u001b[0m     \u001b[0mLowest\u001b[0m\u001b[1;33m(\u001b[0m\u001b[1;33m)\u001b[0m\u001b[1;33m\u001b[0m\u001b[1;33m\u001b[0m\u001b[0m\n\u001b[1;32m---> 10\u001b[1;33m \u001b[0mmarksanalysis\u001b[0m\u001b[1;33m(\u001b[0m\u001b[1;33m)\u001b[0m\u001b[1;33m\u001b[0m\u001b[1;33m\u001b[0m\u001b[0m\n\u001b[0m\u001b[0;32m     11\u001b[0m \u001b[1;33m\u001b[0m\u001b[0m\n",
      "\u001b[1;32m<ipython-input-37-105a9ff29b0b>\u001b[0m in \u001b[0;36mmarksanalysis\u001b[1;34m()\u001b[0m\n\u001b[0;32m      3\u001b[0m     \u001b[0mprint\u001b[0m\u001b[1;33m(\u001b[0m\u001b[1;34m\"Marks analysis Report\"\u001b[0m\u001b[1;33m)\u001b[0m\u001b[1;33m\u001b[0m\u001b[1;33m\u001b[0m\u001b[0m\n\u001b[0;32m      4\u001b[0m     \u001b[0mavg\u001b[0m\u001b[1;33m(\u001b[0m\u001b[1;33m)\u001b[0m\u001b[1;33m\u001b[0m\u001b[1;33m\u001b[0m\u001b[0m\n\u001b[1;32m----> 5\u001b[1;33m     \u001b[0mpassed\u001b[0m\u001b[1;33m(\u001b[0m\u001b[1;33m)\u001b[0m\u001b[1;33m\u001b[0m\u001b[1;33m\u001b[0m\u001b[0m\n\u001b[0m\u001b[0;32m      6\u001b[0m     \u001b[0mfailed\u001b[0m\u001b[1;33m(\u001b[0m\u001b[1;33m)\u001b[0m\u001b[1;33m\u001b[0m\u001b[1;33m\u001b[0m\u001b[0m\n\u001b[0;32m      7\u001b[0m     \u001b[0mdistinction\u001b[0m\u001b[1;33m(\u001b[0m\u001b[1;33m)\u001b[0m\u001b[1;33m\u001b[0m\u001b[1;33m\u001b[0m\u001b[0m\n",
      "\u001b[1;31mNameError\u001b[0m: name 'passed' is not defined"
     ]
    }
   ],
   "source": [
    "def marksanalysis():\n",
    "    genermar()\n",
    "    print(\"Marks analysis Report\")\n",
    "    avg()\n",
    "    passed()\n",
    "    failed()\n",
    "    distinction()\n",
    "    Highest()\n",
    "    Lowest()\n",
    "marksanalysis()\n",
    "    "
   ]
  },
  {
   "cell_type": "code",
   "execution_count": null,
   "metadata": {},
   "outputs": [],
   "source": [
    "\n",
    "def uniquedata(s):\n",
    "    unique=[]\n",
    "    allnumbers=[]\n",
    "    for n in allnumbers:\n",
    "        if n not in unique:\n",
    "            unique.append(n)\n",
    "    \n",
    "    for i in s:\n",
    "        if i.isdigit():\n",
    "            allnumbers.append(i)\n",
    "    unique=uniquedata(allnumbers)\n",
    "    for i in range(0,10):\n",
    "        if i not in unique:\n",
    "            print(0,end=' ')\n",
    "        else:\n",
    "            count= allnumbers.count(str(i))\n",
    "            print(count,end=' ')\n",
    "def uniquedat():\n",
    "    s=input()\n",
    "    uniquedata(s)\n",
    "uniquedat()"
   ]
  },
  {
   "cell_type": "code",
   "execution_count": 34,
   "metadata": {},
   "outputs": [
    {
     "name": "stdout",
     "output_type": "stream",
     "text": [
      "1\n"
     ]
    }
   ],
   "source": [
    "def sam():\n",
    "    c=96\n",
    "    m=0\n",
    "    with open('Datafiles/book.txt','r')as f:\n",
    "        for lines in f.readlines():\n",
    "            if c==int(lines):\n",
    "                m+=1\n",
    "        print(m)\n",
    "sam()"
   ]
  },
  {
   "cell_type": "code",
   "execution_count": null,
   "metadata": {},
   "outputs": [],
   "source": []
  },
  {
   "cell_type": "code",
   "execution_count": null,
   "metadata": {},
   "outputs": [],
   "source": []
  },
  {
   "cell_type": "code",
   "execution_count": null,
   "metadata": {},
   "outputs": [],
   "source": []
  },
  {
   "cell_type": "code",
   "execution_count": null,
   "metadata": {},
   "outputs": [],
   "source": []
  },
  {
   "cell_type": "code",
   "execution_count": null,
   "metadata": {},
   "outputs": [],
   "source": []
  },
  {
   "cell_type": "code",
   "execution_count": null,
   "metadata": {},
   "outputs": [],
   "source": []
  },
  {
   "cell_type": "code",
   "execution_count": null,
   "metadata": {},
   "outputs": [],
   "source": []
  },
  {
   "cell_type": "code",
   "execution_count": null,
   "metadata": {},
   "outputs": [],
   "source": []
  }
 ],
 "metadata": {
  "kernelspec": {
   "display_name": "Python 3",
   "language": "python",
   "name": "python3"
  },
  "language_info": {
   "codemirror_mode": {
    "name": "ipython",
    "version": 3
   },
   "file_extension": ".py",
   "mimetype": "text/x-python",
   "name": "python",
   "nbconvert_exporter": "python",
   "pygments_lexer": "ipython3",
   "version": "3.7.3"
  }
 },
 "nbformat": 4,
 "nbformat_minor": 2
}
